{
  "nbformat": 4,
  "nbformat_minor": 0,
  "metadata": {
    "colab": {
      "provenance": [],
      "mount_file_id": "1qx5W3NGGYPGvtEso9BnreZx8xGdYXPe5",
      "authorship_tag": "ABX9TyMVy75YMq2qSy6FVInwLiJ5",
      "include_colab_link": true
    },
    "kernelspec": {
      "name": "python3",
      "display_name": "Python 3"
    },
    "language_info": {
      "name": "python"
    }
  },
  "cells": [
    {
      "cell_type": "markdown",
      "metadata": {
        "id": "view-in-github",
        "colab_type": "text"
      },
      "source": [
        "<a href=\"https://colab.research.google.com/github/wayneotemah/Learing-TensorFlow/blob/main/01_neural_network_regression_model_tf.ipynb\" target=\"_parent\"><img src=\"https://colab.research.google.com/assets/colab-badge.svg\" alt=\"Open In Colab\"/></a>"
      ]
    },
    {
      "cell_type": "markdown",
      "source": [
        " # Intro to regression with neural networks in tensorflow\n",
        "\n",
        "There are many defination for a regression problem: simple defination, estimating the relationship between a dependent variable and an independent variable *(Predicting a number, based of some other numbers)* \n"
      ],
      "metadata": {
        "id": "zUBsYy-8r7Cp"
      }
    },
    {
      "cell_type": "code",
      "source": [
        "import tensorflow as tf\n",
        "print(tf.__version__)"
      ],
      "metadata": {
        "colab": {
          "base_uri": "https://localhost:8080/"
        },
        "id": "VBUhu5uWuHwz",
        "outputId": "a561a4b9-c9ac-4274-b9b0-004cf5230679"
      },
      "execution_count": null,
      "outputs": [
        {
          "output_type": "stream",
          "name": "stdout",
          "text": [
            "2.12.0\n"
          ]
        }
      ]
    },
    {
      "cell_type": "markdown",
      "source": [
        "## Creating data to view and fit"
      ],
      "metadata": {
        "id": "GFRd2bGmuUjF"
      }
    },
    {
      "cell_type": "code",
      "source": [
        "import numpy as np\n",
        "import matplotlib.pyplot as plt\n",
        "\n",
        "#create features\n",
        "\n",
        "X = np.array([-7.0,-4.0,-1.0,2.0,5.0,8.0,11.0,14.0])\n",
        "\n",
        "# create labels\n",
        "\n",
        "y = np.array([3.0,6.0,9.0,12.0,15.0,18.0,21.0,24.0])\n",
        "\n",
        "#Visuaize it\n",
        "plt.scatter(X,y);\n"
      ],
      "metadata": {
        "colab": {
          "base_uri": "https://localhost:8080/",
          "height": 435
        },
        "id": "w5oObGT_uZrE",
        "outputId": "076b4413-f48f-455b-a610-239dcf95b584"
      },
      "execution_count": null,
      "outputs": [
        {
          "output_type": "display_data",
          "data": {
            "text/plain": [
              "<Figure size 640x480 with 1 Axes>"
            ],
            "image/png": "[encoded data removed]"
          },
          "metadata": {}
        }
      ]
    },
    {
      "cell_type": "code",
      "source": [
        "y == X + 10"
      ],
      "metadata": {
        "colab": {
          "base_uri": "https://localhost:8080/"
        },
        "id": "0a-1gaNkv88Y",
        "outputId": "d22e0361-f517-4cae-9a39-1d2b788f04cf"
      },
      "execution_count": null,
      "outputs": [
        {
          "output_type": "execute_result",
          "data": {
            "text/plain": [
              "array([ True,  True,  True,  True,  True,  True,  True,  True])"
            ]
          },
          "metadata": {},
          "execution_count": 3
        }
      ]
    },
    {
      "cell_type": "markdown",
      "source": [
        "# input shapes and output shape "
      ],
      "metadata": {
        "id": "s6H-XiUtwYb0"
      }
    },
    {
      "cell_type": "code",
      "source": [
        "#create a demo tensor for the housing price preditction problem\n",
        "\n",
        "house_info = tf.constant(['bedrooms','bathrooms','garage'])\n",
        "house_price = tf.constant([939700])\n",
        "house_info, house_price"
      ],
      "metadata": {
        "colab": {
          "base_uri": "https://localhost:8080/"
        },
        "id": "SJsTsakxwuOW",
        "outputId": "162afff4-b31a-4035-ea63-d7ce026e91b3"
      },
      "execution_count": null,
      "outputs": [
        {
          "output_type": "execute_result",
          "data": {
            "text/plain": [
              "(<tf.Tensor: shape=(3,), dtype=string, numpy=array([b'bedrooms', b'bathrooms', b'garage'], dtype=object)>,\n",
              " <tf.Tensor: shape=(1,), dtype=int32, numpy=array([939700], dtype=int32)>)"
            ]
          },
          "metadata": {},
          "execution_count": 4
        }
      ]
    },
    {
      "cell_type": "code",
      "source": [
        "X[0],y[0]"
      ],
      "metadata": {
        "colab": {
          "base_uri": "https://localhost:8080/"
        },
        "id": "0yuoJZZxxlR7",
        "outputId": "4574dfff-6a31-4b2d-eb40-74ffd3ba454f"
      },
      "execution_count": null,
      "outputs": [
        {
          "output_type": "execute_result",
          "data": {
            "text/plain": [
              "(-7.0, 3.0)"
            ]
          },
          "metadata": {},
          "execution_count": 5
        }
      ]
    },
    {
      "cell_type": "code",
      "source": [
        "X[1],y[1]"
      ],
      "metadata": {
        "colab": {
          "base_uri": "https://localhost:8080/"
        },
        "id": "otfdgRWsxpPc",
        "outputId": "277749a4-18ee-4fe2-8417-7650cfd8e961"
      },
      "execution_count": null,
      "outputs": [
        {
          "output_type": "execute_result",
          "data": {
            "text/plain": [
              "(-4.0, 6.0)"
            ]
          },
          "metadata": {},
          "execution_count": 6
        }
      ]
    },
    {
      "cell_type": "code",
      "source": [
        "input_shape = X[0].shape\n",
        "output_shape = y[0].shape\n",
        "\n",
        "input_shape, output_shape"
      ],
      "metadata": {
        "colab": {
          "base_uri": "https://localhost:8080/"
        },
        "id": "VJ1D6a7rxTMQ",
        "outputId": "d98c6d4c-f205-4009-b0bf-6155284beabc"
      },
      "execution_count": null,
      "outputs": [
        {
          "output_type": "execute_result",
          "data": {
            "text/plain": [
              "((), ())"
            ]
          },
          "metadata": {},
          "execution_count": 7
        }
      ]
    },
    {
      "cell_type": "code",
      "source": [
        "X[0].ndim"
      ],
      "metadata": {
        "colab": {
          "base_uri": "https://localhost:8080/"
        },
        "id": "si-fayZ5x_gY",
        "outputId": "00ea6028-aa85-43b2-fb95-b59e5795466e"
      },
      "execution_count": null,
      "outputs": [
        {
          "output_type": "execute_result",
          "data": {
            "text/plain": [
              "0"
            ]
          },
          "metadata": {},
          "execution_count": 8
        }
      ]
    },
    {
      "cell_type": "code",
      "source": [
        "#Turning the numpy array into tensors\n",
        "\n",
        "X = tf.cast(tf.constant(X),dtype = tf.float32)\n",
        "y = tf.cast(tf.constant(y),dtype = tf.float32)\n",
        "\n",
        "X,y"
      ],
      "metadata": {
        "colab": {
          "base_uri": "https://localhost:8080/"
        },
        "id": "XcqMPvL9yBoj",
        "outputId": "557acdc9-9de8-44b3-ff86-e7d49fffcf95"
      },
      "execution_count": null,
      "outputs": [
        {
          "output_type": "execute_result",
          "data": {
            "text/plain": [
              "(<tf.Tensor: shape=(8,), dtype=float32, numpy=array([-7., -4., -1.,  2.,  5.,  8., 11., 14.], dtype=float32)>,\n",
              " <tf.Tensor: shape=(8,), dtype=float32, numpy=array([ 3.,  6.,  9., 12., 15., 18., 21., 24.], dtype=float32)>)"
            ]
          },
          "metadata": {},
          "execution_count": 9
        }
      ]
    },
    {
      "cell_type": "code",
      "source": [
        "input_shape = X[0].shape\n",
        "output_shape = y[0].shape\n",
        "\n",
        "input_shape,output_shape"
      ],
      "metadata": {
        "colab": {
          "base_uri": "https://localhost:8080/"
        },
        "id": "w16WMQeYy7Hw",
        "outputId": "559cb081-8269-4602-c163-63af492ef534"
      },
      "execution_count": null,
      "outputs": [
        {
          "output_type": "execute_result",
          "data": {
            "text/plain": [
              "(TensorShape([]), TensorShape([]))"
            ]
          },
          "metadata": {},
          "execution_count": 10
        }
      ]
    },
    {
      "cell_type": "code",
      "source": [
        "plt.scatter(X,y)"
      ],
      "metadata": {
        "colab": {
          "base_uri": "https://localhost:8080/",
          "height": 452
        },
        "id": "tM5nz6AjzDr2",
        "outputId": "934b93f2-eaee-4dd4-be73-2c8b796fa68f"
      },
      "execution_count": null,
      "outputs": [
        {
          "output_type": "execute_result",
          "data": {
            "text/plain": [
              "<matplotlib.collections.PathCollection at 0x7f87454e2d10>"
            ]
          },
          "metadata": {},
          "execution_count": 11
        },
        {
          "output_type": "display_data",
          "data": {
            "text/plain": [
              "<Figure size 640x480 with 1 Axes>"
            ],
            "image/png": "[encoded data removed]"
          },
          "metadata": {}
        }
      ]
    },
    {
      "cell_type": "markdown",
      "source": [
        "## steps in modelling in TF\n",
        "\n",
        "1. **Creating a model**\n",
        "    define the input, output and hidden layer for a deep learing model\n",
        "2. **Compiling hte model**\n",
        "    define the loss function and the optimizer and evaluation metrix\n",
        "3. **Fitting a model**\n",
        "    Letting the models find the patters between X and y\n"
      ],
      "metadata": {
        "id": "vza5FGCRziM1"
      }
    },
    {
      "cell_type": "code",
      "source": [
        "tf.random.set_seed(42)\n",
        "\n",
        "#1. Create a model using the sequential API\n",
        "model = tf.keras.Sequential([\n",
        "    tf.keras.layers.Dense(1)\n",
        "])\n",
        "\n",
        "# complie the model\n",
        "model.compile(\n",
        "    loss=tf.keras.losses.mae,# mae -> mean absolute error\n",
        "    optimizer = tf.keras.optimizers.SGD(), #SDG-> stochastic gradient descent\n",
        "    metrics = [\"mae\"]\n",
        "               )\n",
        "\n",
        "# Fit the model\n",
        "model.fit(tf.expand_dims(X,axis = -1),y, epochs=5)"
      ],
      "metadata": {
        "colab": {
          "base_uri": "https://localhost:8080/"
        },
        "id": "Z2SpKPSC0QOS",
        "outputId": "73839994-3ff1-4e21-98e0-25f91e48b4dc"
      },
      "execution_count": null,
      "outputs": [
        {
          "output_type": "stream",
          "name": "stdout",
          "text": [
            "Epoch 1/5\n",
            "1/1 [==============================] - 1s 605ms/step - loss: 12.0629 - mae: 12.0629\n",
            "Epoch 2/5\n",
            "1/1 [==============================] - 0s 14ms/step - loss: 11.9304 - mae: 11.9304\n",
            "Epoch 3/5\n",
            "1/1 [==============================] - 0s 16ms/step - loss: 11.7979 - mae: 11.7979\n",
            "Epoch 4/5\n",
            "1/1 [==============================] - 0s 17ms/step - loss: 11.6654 - mae: 11.6654\n",
            "Epoch 5/5\n",
            "1/1 [==============================] - 0s 12ms/step - loss: 11.5329 - mae: 11.5329\n"
          ]
        },
        {
          "output_type": "execute_result",
          "data": {
            "text/plain": [
              "<keras.callbacks.History at 0x7f8745427cd0>"
            ]
          },
          "metadata": {},
          "execution_count": 12
        }
      ]
    },
    {
      "cell_type": "code",
      "source": [
        "# check out x and y\n",
        "\n",
        "X,y"
      ],
      "metadata": {
        "colab": {
          "base_uri": "https://localhost:8080/"
        },
        "id": "aV6URhvp1CYD",
        "outputId": "83beccc4-4cf0-4ca3-b398-71ba4efbfdc0"
      },
      "execution_count": null,
      "outputs": [
        {
          "output_type": "execute_result",
          "data": {
            "text/plain": [
              "(<tf.Tensor: shape=(8,), dtype=float32, numpy=array([-7., -4., -1.,  2.,  5.,  8., 11., 14.], dtype=float32)>,\n",
              " <tf.Tensor: shape=(8,), dtype=float32, numpy=array([ 3.,  6.,  9., 12., 15., 18., 21., 24.], dtype=float32)>)"
            ]
          },
          "metadata": {},
          "execution_count": 13
        }
      ]
    },
    {
      "cell_type": "code",
      "source": [
        "#  make a predicition\n",
        "\n",
        "model.predict([17.0])"
      ],
      "metadata": {
        "colab": {
          "base_uri": "https://localhost:8080/"
        },
        "id": "Ba02XMw-53rE",
        "outputId": "965e43d2-20ac-4201-957a-9fd0695594f1"
      },
      "execution_count": null,
      "outputs": [
        {
          "output_type": "stream",
          "name": "stdout",
          "text": [
            "1/1 [==============================] - 0s 92ms/step\n"
          ]
        },
        {
          "output_type": "execute_result",
          "data": {
            "text/plain": [
              "array([[10.004992]], dtype=float32)"
            ]
          },
          "metadata": {},
          "execution_count": 14
        }
      ]
    },
    {
      "cell_type": "markdown",
      "source": [
        "### how to improve the model\n",
        "\n",
        "impovement by altering the steps taken to create the model\n",
        "\n",
        "1. **creating the model** : adding more layers increase the number of hidden units (neurons)\n",
        "2. **compiling a model** : change the optimization function or the learining rate of the optimization function\n",
        "3. **Fitting a model** : more epochs or more data to learn from\n",
        "\n"
      ],
      "metadata": {
        "id": "qgVbIQxX6DqV"
      }
    },
    {
      "cell_type": "code",
      "source": [
        "# Create the model again\n",
        "\n",
        "\n",
        "#1. Create a model using the sequential API\n",
        "model = tf.keras.Sequential([\n",
        "    tf.keras.layers.Dense(1)\n",
        "])\n",
        "\n",
        "# complie the model\n",
        "model.compile(\n",
        "    loss=tf.keras.losses.mae,# mae -> mean absolute error\n",
        "    optimizer = tf.keras.optimizers.SGD(), #SDG-> stochastic gradient descent\n",
        "    metrics = [\"mae\"]\n",
        "               )\n",
        "\n",
        "# Fit the model (this time train for longer)\n",
        "model.fit(tf.expand_dims(X,axis = -1),y, epochs=100)"
      ],
      "metadata": {
        "id": "Hu6e0OwG6aE5",
        "colab": {
          "base_uri": "https://localhost:8080/"
        },
        "outputId": "2f393b2e-7838-4d9d-a47e-98f3e60fc3b0"
      },
      "execution_count": null,
      "outputs": [
        {
          "output_type": "stream",
          "name": "stdout",
          "text": [
            "Epoch 1/100\n",
            "1/1 [==============================] - 1s 509ms/step - loss: 16.7806 - mae: 16.7806\n",
            "Epoch 2/100\n",
            "1/1 [==============================] - 0s 16ms/step - loss: 16.4993 - mae: 16.4993\n",
            "Epoch 3/100\n",
            "1/1 [==============================] - 0s 15ms/step - loss: 16.2181 - mae: 16.2181\n",
            "Epoch 4/100\n",
            "1/1 [==============================] - 0s 14ms/step - loss: 15.9368 - mae: 15.9368\n",
            "Epoch 5/100\n",
            "1/1 [==============================] - 0s 19ms/step - loss: 15.6556 - mae: 15.6556\n",
            "Epoch 6/100\n",
            "1/1 [==============================] - 0s 15ms/step - loss: 15.3743 - mae: 15.3743\n",
            "Epoch 7/100\n",
            "1/1 [==============================] - 0s 12ms/step - loss: 15.0931 - mae: 15.0931\n",
            "Epoch 8/100\n",
            "1/1 [==============================] - 0s 13ms/step - loss: 14.8483 - mae: 14.8483\n",
            "Epoch 9/100\n",
            "1/1 [==============================] - 0s 13ms/step - loss: 14.7158 - mae: 14.7158\n",
            "Epoch 10/100\n",
            "1/1 [==============================] - 0s 13ms/step - loss: 14.5833 - mae: 14.5833\n",
            "Epoch 11/100\n",
            "1/1 [==============================] - 0s 16ms/step - loss: 14.4508 - mae: 14.4508\n",
            "Epoch 12/100\n",
            "1/1 [==============================] - 0s 15ms/step - loss: 14.3183 - mae: 14.3183\n",
            "Epoch 13/100\n",
            "1/1 [==============================] - 0s 13ms/step - loss: 14.1858 - mae: 14.1858\n",
            "Epoch 14/100\n",
            "1/1 [==============================] - 0s 11ms/step - loss: 14.0533 - mae: 14.0533\n",
            "Epoch 15/100\n",
            "1/1 [==============================] - 0s 11ms/step - loss: 13.9208 - mae: 13.9208\n",
            "Epoch 16/100\n",
            "1/1 [==============================] - 0s 11ms/step - loss: 13.7883 - mae: 13.7883\n",
            "Epoch 17/100\n",
            "1/1 [==============================] - 0s 10ms/step - loss: 13.6558 - mae: 13.6558\n",
            "Epoch 18/100\n",
            "1/1 [==============================] - 0s 9ms/step - loss: 13.5233 - mae: 13.5233\n",
            "Epoch 19/100\n",
            "1/1 [==============================] - 0s 11ms/step - loss: 13.3908 - mae: 13.3908\n",
            "Epoch 20/100\n",
            "1/1 [==============================] - 0s 12ms/step - loss: 13.2583 - mae: 13.2583\n",
            "Epoch 21/100\n",
            "1/1 [==============================] - 0s 7ms/step - loss: 13.1258 - mae: 13.1258\n",
            "Epoch 22/100\n",
            "1/1 [==============================] - 0s 10ms/step - loss: 12.9933 - mae: 12.9933\n",
            "Epoch 23/100\n",
            "1/1 [==============================] - 0s 13ms/step - loss: 12.8608 - mae: 12.8608\n",
            "Epoch 24/100\n",
            "1/1 [==============================] - 0s 9ms/step - loss: 12.7283 - mae: 12.7283\n",
            "Epoch 25/100\n",
            "1/1 [==============================] - 0s 10ms/step - loss: 12.5958 - mae: 12.5958\n",
            "Epoch 26/100\n",
            "1/1 [==============================] - 0s 9ms/step - loss: 12.4633 - mae: 12.4633\n",
            "Epoch 27/100\n",
            "1/1 [==============================] - 0s 10ms/step - loss: 12.3308 - mae: 12.3308\n",
            "Epoch 28/100\n",
            "1/1 [==============================] - 0s 12ms/step - loss: 12.1983 - mae: 12.1983\n",
            "Epoch 29/100\n",
            "1/1 [==============================] - 0s 10ms/step - loss: 12.0658 - mae: 12.0658\n",
            "Epoch 30/100\n",
            "1/1 [==============================] - 0s 10ms/step - loss: 11.9333 - mae: 11.9333\n",
            "Epoch 31/100\n",
            "1/1 [==============================] - 0s 12ms/step - loss: 11.8008 - mae: 11.8008\n",
            "Epoch 32/100\n",
            "1/1 [==============================] - 0s 9ms/step - loss: 11.6683 - mae: 11.6683\n",
            "Epoch 33/100\n",
            "1/1 [==============================] - 0s 8ms/step - loss: 11.5358 - mae: 11.5358\n",
            "Epoch 34/100\n",
            "1/1 [==============================] - 0s 11ms/step - loss: 11.4033 - mae: 11.4033\n",
            "Epoch 35/100\n",
            "1/1 [==============================] - 0s 8ms/step - loss: 11.2708 - mae: 11.2708\n",
            "Epoch 36/100\n",
            "1/1 [==============================] - 0s 10ms/step - loss: 11.1383 - mae: 11.1383\n",
            "Epoch 37/100\n",
            "1/1 [==============================] - 0s 9ms/step - loss: 11.0058 - mae: 11.0058\n",
            "Epoch 38/100\n",
            "1/1 [==============================] - 0s 11ms/step - loss: 10.8733 - mae: 10.8733\n",
            "Epoch 39/100\n",
            "1/1 [==============================] - 0s 11ms/step - loss: 10.7408 - mae: 10.7408\n",
            "Epoch 40/100\n",
            "1/1 [==============================] - 0s 11ms/step - loss: 10.6083 - mae: 10.6083\n",
            "Epoch 41/100\n",
            "1/1 [==============================] - 0s 11ms/step - loss: 10.4758 - mae: 10.4758\n",
            "Epoch 42/100\n",
            "1/1 [==============================] - 0s 11ms/step - loss: 10.3433 - mae: 10.3433\n",
            "Epoch 43/100\n",
            "1/1 [==============================] - 0s 8ms/step - loss: 10.2108 - mae: 10.2108\n",
            "Epoch 44/100\n",
            "1/1 [==============================] - 0s 11ms/step - loss: 10.0783 - mae: 10.0783\n",
            "Epoch 45/100\n",
            "1/1 [==============================] - 0s 12ms/step - loss: 9.9458 - mae: 9.9458\n",
            "Epoch 46/100\n",
            "1/1 [==============================] - 0s 10ms/step - loss: 9.8133 - mae: 9.8133\n",
            "Epoch 47/100\n",
            "1/1 [==============================] - 0s 11ms/step - loss: 9.6808 - mae: 9.6808\n",
            "Epoch 48/100\n",
            "1/1 [==============================] - 0s 14ms/step - loss: 9.5483 - mae: 9.5483\n",
            "Epoch 49/100\n",
            "1/1 [==============================] - 0s 11ms/step - loss: 9.4158 - mae: 9.4158\n",
            "Epoch 50/100\n",
            "1/1 [==============================] - 0s 10ms/step - loss: 9.2833 - mae: 9.2833\n",
            "Epoch 51/100\n",
            "1/1 [==============================] - 0s 12ms/step - loss: 9.1508 - mae: 9.1508\n",
            "Epoch 52/100\n",
            "1/1 [==============================] - 0s 10ms/step - loss: 9.0183 - mae: 9.0183\n",
            "Epoch 53/100\n",
            "1/1 [==============================] - 0s 11ms/step - loss: 8.8858 - mae: 8.8858\n",
            "Epoch 54/100\n",
            "1/1 [==============================] - 0s 12ms/step - loss: 8.7533 - mae: 8.7533\n",
            "Epoch 55/100\n",
            "1/1 [==============================] - 0s 12ms/step - loss: 8.6208 - mae: 8.6208\n",
            "Epoch 56/100\n",
            "1/1 [==============================] - 0s 10ms/step - loss: 8.4883 - mae: 8.4883\n",
            "Epoch 57/100\n",
            "1/1 [==============================] - 0s 10ms/step - loss: 8.3558 - mae: 8.3558\n",
            "Epoch 58/100\n",
            "1/1 [==============================] - 0s 12ms/step - loss: 8.2233 - mae: 8.2233\n",
            "Epoch 59/100\n",
            "1/1 [==============================] - 0s 8ms/step - loss: 8.0908 - mae: 8.0908\n",
            "Epoch 60/100\n",
            "1/1 [==============================] - 0s 11ms/step - loss: 7.9583 - mae: 7.9583\n",
            "Epoch 61/100\n",
            "1/1 [==============================] - 0s 13ms/step - loss: 7.8258 - mae: 7.8258\n",
            "Epoch 62/100\n",
            "1/1 [==============================] - 0s 9ms/step - loss: 7.6933 - mae: 7.6933\n",
            "Epoch 63/100\n",
            "1/1 [==============================] - 0s 10ms/step - loss: 7.5608 - mae: 7.5608\n",
            "Epoch 64/100\n",
            "1/1 [==============================] - 0s 10ms/step - loss: 7.4283 - mae: 7.4283\n",
            "Epoch 65/100\n",
            "1/1 [==============================] - 0s 10ms/step - loss: 7.2958 - mae: 7.2958\n",
            "Epoch 66/100\n",
            "1/1 [==============================] - 0s 12ms/step - loss: 7.1633 - mae: 7.1633\n",
            "Epoch 67/100\n",
            "1/1 [==============================] - 0s 9ms/step - loss: 7.0308 - mae: 7.0308\n",
            "Epoch 68/100\n",
            "1/1 [==============================] - 0s 10ms/step - loss: 7.0106 - mae: 7.0106\n",
            "Epoch 69/100\n",
            "1/1 [==============================] - 0s 10ms/step - loss: 7.0050 - mae: 7.0050\n",
            "Epoch 70/100\n",
            "1/1 [==============================] - 0s 10ms/step - loss: 6.9994 - mae: 6.9994\n",
            "Epoch 71/100\n",
            "1/1 [==============================] - 0s 13ms/step - loss: 6.9938 - mae: 6.9938\n",
            "Epoch 72/100\n",
            "1/1 [==============================] - 0s 11ms/step - loss: 6.9881 - mae: 6.9881\n",
            "Epoch 73/100\n",
            "1/1 [==============================] - 0s 9ms/step - loss: 6.9825 - mae: 6.9825\n",
            "Epoch 74/100\n",
            "1/1 [==============================] - 0s 10ms/step - loss: 6.9769 - mae: 6.9769\n",
            "Epoch 75/100\n",
            "1/1 [==============================] - 0s 10ms/step - loss: 6.9713 - mae: 6.9713\n",
            "Epoch 76/100\n",
            "1/1 [==============================] - 0s 9ms/step - loss: 6.9656 - mae: 6.9656\n",
            "Epoch 77/100\n",
            "1/1 [==============================] - 0s 9ms/step - loss: 6.9600 - mae: 6.9600\n",
            "Epoch 78/100\n",
            "1/1 [==============================] - 0s 10ms/step - loss: 6.9544 - mae: 6.9544\n",
            "Epoch 79/100\n",
            "1/1 [==============================] - 0s 10ms/step - loss: 6.9488 - mae: 6.9488\n",
            "Epoch 80/100\n",
            "1/1 [==============================] - 0s 19ms/step - loss: 6.9431 - mae: 6.9431\n",
            "Epoch 81/100\n",
            "1/1 [==============================] - 0s 18ms/step - loss: 6.9375 - mae: 6.9375\n",
            "Epoch 82/100\n",
            "1/1 [==============================] - 0s 10ms/step - loss: 6.9319 - mae: 6.9319\n",
            "Epoch 83/100\n",
            "1/1 [==============================] - 0s 9ms/step - loss: 6.9263 - mae: 6.9263\n",
            "Epoch 84/100\n",
            "1/1 [==============================] - 0s 11ms/step - loss: 6.9206 - mae: 6.9206\n",
            "Epoch 85/100\n",
            "1/1 [==============================] - 0s 11ms/step - loss: 6.9150 - mae: 6.9150\n",
            "Epoch 86/100\n",
            "1/1 [==============================] - 0s 11ms/step - loss: 6.9094 - mae: 6.9094\n",
            "Epoch 87/100\n",
            "1/1 [==============================] - 0s 10ms/step - loss: 6.9038 - mae: 6.9038\n",
            "Epoch 88/100\n",
            "1/1 [==============================] - 0s 10ms/step - loss: 6.8981 - mae: 6.8981\n",
            "Epoch 89/100\n",
            "1/1 [==============================] - 0s 7ms/step - loss: 6.8925 - mae: 6.8925\n",
            "Epoch 90/100\n",
            "1/1 [==============================] - 0s 10ms/step - loss: 6.8869 - mae: 6.8869\n",
            "Epoch 91/100\n",
            "1/1 [==============================] - 0s 9ms/step - loss: 6.8813 - mae: 6.8813\n",
            "Epoch 92/100\n",
            "1/1 [==============================] - 0s 9ms/step - loss: 6.8756 - mae: 6.8756\n",
            "Epoch 93/100\n",
            "1/1 [==============================] - 0s 9ms/step - loss: 6.8700 - mae: 6.8700\n",
            "Epoch 94/100\n",
            "1/1 [==============================] - 0s 15ms/step - loss: 6.8644 - mae: 6.8644\n",
            "Epoch 95/100\n",
            "1/1 [==============================] - 0s 11ms/step - loss: 6.8588 - mae: 6.8588\n",
            "Epoch 96/100\n",
            "1/1 [==============================] - 0s 12ms/step - loss: 6.8531 - mae: 6.8531\n",
            "Epoch 97/100\n",
            "1/1 [==============================] - 0s 12ms/step - loss: 6.8475 - mae: 6.8475\n",
            "Epoch 98/100\n",
            "1/1 [==============================] - 0s 16ms/step - loss: 6.8419 - mae: 6.8419\n",
            "Epoch 99/100\n",
            "1/1 [==============================] - 0s 12ms/step - loss: 6.8363 - mae: 6.8363\n",
            "Epoch 100/100\n",
            "1/1 [==============================] - 0s 14ms/step - loss: 6.8306 - mae: 6.8306\n"
          ]
        },
        {
          "output_type": "execute_result",
          "data": {
            "text/plain": [
              "<keras.callbacks.History at 0x7f8744a7b460>"
            ]
          },
          "metadata": {},
          "execution_count": 15
        }
      ]
    },
    {
      "cell_type": "code",
      "source": [
        "# Lets predict and see improvements\n",
        "model.predict([17.0])"
      ],
      "metadata": {
        "colab": {
          "base_uri": "https://localhost:8080/"
        },
        "id": "o4Z_uHuU1qaT",
        "outputId": "49ebb785-d334-4683-b372-5e8e5659bc45"
      },
      "execution_count": null,
      "outputs": [
        {
          "output_type": "stream",
          "name": "stdout",
          "text": [
            "1/1 [==============================] - 0s 108ms/step\n"
          ]
        },
        {
          "output_type": "execute_result",
          "data": {
            "text/plain": [
              "array([[29.796041]], dtype=float32)"
            ]
          },
          "metadata": {},
          "execution_count": 16
        }
      ]
    },
    {
      "cell_type": "code",
      "source": [
        "# Create the model again\n",
        "# Adding the more layers\n",
        "\n",
        "\n",
        "#1. Create a model using the sequential API\n",
        "model = tf.keras.Sequential([\n",
        "    tf.keras.layers.Dense(10),\n",
        "    tf.keras.layers.Dense(1)\n",
        "])\n",
        "\n",
        "# complie the model\n",
        "model.compile(\n",
        "    loss=tf.keras.losses.mae,# mae -> mean absolute error\n",
        "    optimizer = tf.keras.optimizers.SGD(), #SDG-> stochastic gradient descent\n",
        "    metrics = [\"mae\"]\n",
        "               )\n",
        "\n",
        "# Fit the model (this time train for longer)\n",
        "model.fit(tf.expand_dims(X,axis = -1),y, epochs=100)"
      ],
      "metadata": {
        "colab": {
          "base_uri": "https://localhost:8080/"
        },
        "id": "mWjtIKCn2oTG",
        "outputId": "a3a3e510-afdf-41c3-c7c4-c2de8d8a15b5"
      },
      "execution_count": null,
      "outputs": [
        {
          "output_type": "stream",
          "name": "stdout",
          "text": [
            "Epoch 1/100\n",
            "1/1 [==============================] - 1s 771ms/step - loss: 18.7384 - mae: 18.7384\n",
            "Epoch 2/100\n",
            "1/1 [==============================] - 0s 17ms/step - loss: 17.7079 - mae: 17.7079\n",
            "Epoch 3/100\n",
            "1/1 [==============================] - 0s 17ms/step - loss: 16.7389 - mae: 16.7389\n",
            "Epoch 4/100\n",
            "1/1 [==============================] - 0s 14ms/step - loss: 15.8203 - mae: 15.8203\n",
            "Epoch 5/100\n",
            "1/1 [==============================] - 0s 16ms/step - loss: 14.9416 - mae: 14.9416\n",
            "Epoch 6/100\n",
            "1/1 [==============================] - 0s 13ms/step - loss: 14.3435 - mae: 14.3435\n",
            "Epoch 7/100\n",
            "1/1 [==============================] - 0s 14ms/step - loss: 13.9552 - mae: 13.9552\n",
            "Epoch 8/100\n",
            "1/1 [==============================] - 0s 12ms/step - loss: 13.5705 - mae: 13.5705\n",
            "Epoch 9/100\n",
            "1/1 [==============================] - 0s 13ms/step - loss: 13.1875 - mae: 13.1875\n",
            "Epoch 10/100\n",
            "1/1 [==============================] - 0s 15ms/step - loss: 12.8042 - mae: 12.8042\n",
            "Epoch 11/100\n",
            "1/1 [==============================] - 0s 12ms/step - loss: 12.4186 - mae: 12.4186\n",
            "Epoch 12/100\n",
            "1/1 [==============================] - 0s 16ms/step - loss: 12.0287 - mae: 12.0287\n",
            "Epoch 13/100\n",
            "1/1 [==============================] - 0s 13ms/step - loss: 11.6326 - mae: 11.6326\n",
            "Epoch 14/100\n",
            "1/1 [==============================] - 0s 15ms/step - loss: 11.2281 - mae: 11.2281\n",
            "Epoch 15/100\n",
            "1/1 [==============================] - 0s 16ms/step - loss: 10.8133 - mae: 10.8133\n",
            "Epoch 16/100\n",
            "1/1 [==============================] - 0s 15ms/step - loss: 10.3860 - mae: 10.3860\n",
            "Epoch 17/100\n",
            "1/1 [==============================] - 0s 16ms/step - loss: 9.9441 - mae: 9.9441\n",
            "Epoch 18/100\n",
            "1/1 [==============================] - 0s 10ms/step - loss: 9.4852 - mae: 9.4852\n",
            "Epoch 19/100\n",
            "1/1 [==============================] - 0s 11ms/step - loss: 9.0070 - mae: 9.0070\n",
            "Epoch 20/100\n",
            "1/1 [==============================] - 0s 13ms/step - loss: 8.5072 - mae: 8.5072\n",
            "Epoch 21/100\n",
            "1/1 [==============================] - 0s 13ms/step - loss: 7.9832 - mae: 7.9832\n",
            "Epoch 22/100\n",
            "1/1 [==============================] - 0s 12ms/step - loss: 7.4323 - mae: 7.4323\n",
            "Epoch 23/100\n",
            "1/1 [==============================] - 0s 14ms/step - loss: 7.0307 - mae: 7.0307\n",
            "Epoch 24/100\n",
            "1/1 [==============================] - 0s 13ms/step - loss: 7.0107 - mae: 7.0107\n",
            "Epoch 25/100\n",
            "1/1 [==============================] - 0s 14ms/step - loss: 6.9906 - mae: 6.9906\n",
            "Epoch 26/100\n",
            "1/1 [==============================] - 0s 10ms/step - loss: 6.9704 - mae: 6.9704\n",
            "Epoch 27/100\n",
            "1/1 [==============================] - 0s 12ms/step - loss: 6.9502 - mae: 6.9502\n",
            "Epoch 28/100\n",
            "1/1 [==============================] - 0s 15ms/step - loss: 6.9298 - mae: 6.9298\n",
            "Epoch 29/100\n",
            "1/1 [==============================] - 0s 12ms/step - loss: 6.9094 - mae: 6.9094\n",
            "Epoch 30/100\n",
            "1/1 [==============================] - 0s 15ms/step - loss: 6.8889 - mae: 6.8889\n",
            "Epoch 31/100\n",
            "1/1 [==============================] - 0s 12ms/step - loss: 6.8683 - mae: 6.8683\n",
            "Epoch 32/100\n",
            "1/1 [==============================] - 0s 12ms/step - loss: 6.8476 - mae: 6.8476\n",
            "Epoch 33/100\n",
            "1/1 [==============================] - 0s 12ms/step - loss: 6.8268 - mae: 6.8268\n",
            "Epoch 34/100\n",
            "1/1 [==============================] - 0s 14ms/step - loss: 6.8059 - mae: 6.8059\n",
            "Epoch 35/100\n",
            "1/1 [==============================] - 0s 14ms/step - loss: 6.7849 - mae: 6.7849\n",
            "Epoch 36/100\n",
            "1/1 [==============================] - 0s 11ms/step - loss: 6.7638 - mae: 6.7638\n",
            "Epoch 37/100\n",
            "1/1 [==============================] - 0s 15ms/step - loss: 6.7426 - mae: 6.7426\n",
            "Epoch 38/100\n",
            "1/1 [==============================] - 0s 11ms/step - loss: 6.7213 - mae: 6.7213\n",
            "Epoch 39/100\n",
            "1/1 [==============================] - 0s 11ms/step - loss: 6.6998 - mae: 6.6998\n",
            "Epoch 40/100\n",
            "1/1 [==============================] - 0s 19ms/step - loss: 6.6783 - mae: 6.6783\n",
            "Epoch 41/100\n",
            "1/1 [==============================] - 0s 11ms/step - loss: 6.6565 - mae: 6.6565\n",
            "Epoch 42/100\n",
            "1/1 [==============================] - 0s 10ms/step - loss: 6.6347 - mae: 6.6347\n",
            "Epoch 43/100\n",
            "1/1 [==============================] - 0s 10ms/step - loss: 6.6127 - mae: 6.6127\n",
            "Epoch 44/100\n",
            "1/1 [==============================] - 0s 11ms/step - loss: 6.5906 - mae: 6.5906\n",
            "Epoch 45/100\n",
            "1/1 [==============================] - 0s 11ms/step - loss: 6.5684 - mae: 6.5684\n",
            "Epoch 46/100\n",
            "1/1 [==============================] - 0s 11ms/step - loss: 6.5460 - mae: 6.5460\n",
            "Epoch 47/100\n",
            "1/1 [==============================] - 0s 10ms/step - loss: 6.5235 - mae: 6.5235\n",
            "Epoch 48/100\n",
            "1/1 [==============================] - 0s 10ms/step - loss: 6.5087 - mae: 6.5087\n",
            "Epoch 49/100\n",
            "1/1 [==============================] - 0s 11ms/step - loss: 6.4970 - mae: 6.4970\n",
            "Epoch 50/100\n",
            "1/1 [==============================] - 0s 11ms/step - loss: 6.4746 - mae: 6.4746\n",
            "Epoch 51/100\n",
            "1/1 [==============================] - 0s 11ms/step - loss: 6.4520 - mae: 6.4520\n",
            "Epoch 52/100\n",
            "1/1 [==============================] - 0s 11ms/step - loss: 6.4293 - mae: 6.4293\n",
            "Epoch 53/100\n",
            "1/1 [==============================] - 0s 11ms/step - loss: 6.4064 - mae: 6.4064\n",
            "Epoch 54/100\n",
            "1/1 [==============================] - 0s 11ms/step - loss: 6.3833 - mae: 6.3833\n",
            "Epoch 55/100\n",
            "1/1 [==============================] - 0s 11ms/step - loss: 6.3601 - mae: 6.3601\n",
            "Epoch 56/100\n",
            "1/1 [==============================] - 0s 11ms/step - loss: 6.3366 - mae: 6.3366\n",
            "Epoch 57/100\n",
            "1/1 [==============================] - 0s 11ms/step - loss: 6.3130 - mae: 6.3130\n",
            "Epoch 58/100\n",
            "1/1 [==============================] - 0s 11ms/step - loss: 6.2892 - mae: 6.2892\n",
            "Epoch 59/100\n",
            "1/1 [==============================] - 0s 11ms/step - loss: 6.2652 - mae: 6.2652\n",
            "Epoch 60/100\n",
            "1/1 [==============================] - 0s 11ms/step - loss: 6.2411 - mae: 6.2411\n",
            "Epoch 61/100\n",
            "1/1 [==============================] - 0s 13ms/step - loss: 6.2167 - mae: 6.2167\n",
            "Epoch 62/100\n",
            "1/1 [==============================] - 0s 14ms/step - loss: 6.1921 - mae: 6.1921\n",
            "Epoch 63/100\n",
            "1/1 [==============================] - 0s 12ms/step - loss: 6.1673 - mae: 6.1673\n",
            "Epoch 64/100\n",
            "1/1 [==============================] - 0s 11ms/step - loss: 6.1423 - mae: 6.1423\n",
            "Epoch 65/100\n",
            "1/1 [==============================] - 0s 12ms/step - loss: 6.1171 - mae: 6.1171\n",
            "Epoch 66/100\n",
            "1/1 [==============================] - 0s 11ms/step - loss: 6.1070 - mae: 6.1070\n",
            "Epoch 67/100\n",
            "1/1 [==============================] - 0s 11ms/step - loss: 6.0901 - mae: 6.0901\n",
            "Epoch 68/100\n",
            "1/1 [==============================] - 0s 11ms/step - loss: 6.0648 - mae: 6.0648\n",
            "Epoch 69/100\n",
            "1/1 [==============================] - 0s 14ms/step - loss: 6.0392 - mae: 6.0392\n",
            "Epoch 70/100\n",
            "1/1 [==============================] - 0s 13ms/step - loss: 6.0135 - mae: 6.0135\n",
            "Epoch 71/100\n",
            "1/1 [==============================] - 0s 14ms/step - loss: 5.9875 - mae: 5.9875\n",
            "Epoch 72/100\n",
            "1/1 [==============================] - 0s 14ms/step - loss: 5.9613 - mae: 5.9613\n",
            "Epoch 73/100\n",
            "1/1 [==============================] - 0s 10ms/step - loss: 5.9348 - mae: 5.9348\n",
            "Epoch 74/100\n",
            "1/1 [==============================] - 0s 14ms/step - loss: 5.9080 - mae: 5.9080\n",
            "Epoch 75/100\n",
            "1/1 [==============================] - 0s 13ms/step - loss: 5.8810 - mae: 5.8810\n",
            "Epoch 76/100\n",
            "1/1 [==============================] - 0s 13ms/step - loss: 5.8538 - mae: 5.8538\n",
            "Epoch 77/100\n",
            "1/1 [==============================] - 0s 11ms/step - loss: 5.8263 - mae: 5.8263\n",
            "Epoch 78/100\n",
            "1/1 [==============================] - 0s 11ms/step - loss: 5.7985 - mae: 5.7985\n",
            "Epoch 79/100\n",
            "1/1 [==============================] - 0s 11ms/step - loss: 5.7704 - mae: 5.7704\n",
            "Epoch 80/100\n",
            "1/1 [==============================] - 0s 10ms/step - loss: 5.7420 - mae: 5.7420\n",
            "Epoch 81/100\n",
            "1/1 [==============================] - 0s 10ms/step - loss: 5.7297 - mae: 5.7297\n",
            "Epoch 82/100\n",
            "1/1 [==============================] - 0s 10ms/step - loss: 5.7127 - mae: 5.7127\n",
            "Epoch 83/100\n",
            "1/1 [==============================] - 0s 10ms/step - loss: 5.6841 - mae: 5.6841\n",
            "Epoch 84/100\n",
            "1/1 [==============================] - 0s 14ms/step - loss: 5.6551 - mae: 5.6551\n",
            "Epoch 85/100\n",
            "1/1 [==============================] - 0s 11ms/step - loss: 5.6259 - mae: 5.6259\n",
            "Epoch 86/100\n",
            "1/1 [==============================] - 0s 10ms/step - loss: 5.5964 - mae: 5.5964\n",
            "Epoch 87/100\n",
            "1/1 [==============================] - 0s 10ms/step - loss: 5.5666 - mae: 5.5666\n",
            "Epoch 88/100\n",
            "1/1 [==============================] - 0s 10ms/step - loss: 5.5365 - mae: 5.5365\n",
            "Epoch 89/100\n",
            "1/1 [==============================] - 0s 10ms/step - loss: 5.5060 - mae: 5.5060\n",
            "Epoch 90/100\n",
            "1/1 [==============================] - 0s 11ms/step - loss: 5.4752 - mae: 5.4752\n",
            "Epoch 91/100\n",
            "1/1 [==============================] - 0s 10ms/step - loss: 5.4441 - mae: 5.4441\n",
            "Epoch 92/100\n",
            "1/1 [==============================] - 0s 10ms/step - loss: 5.4126 - mae: 5.4126\n",
            "Epoch 93/100\n",
            "1/1 [==============================] - 0s 10ms/step - loss: 5.3808 - mae: 5.3808\n",
            "Epoch 94/100\n",
            "1/1 [==============================] - 0s 12ms/step - loss: 5.3487 - mae: 5.3487\n",
            "Epoch 95/100\n",
            "1/1 [==============================] - 0s 14ms/step - loss: 5.3476 - mae: 5.3476\n",
            "Epoch 96/100\n",
            "1/1 [==============================] - 0s 14ms/step - loss: 5.3154 - mae: 5.3154\n",
            "Epoch 97/100\n",
            "1/1 [==============================] - 0s 17ms/step - loss: 5.2827 - mae: 5.2827\n",
            "Epoch 98/100\n",
            "1/1 [==============================] - 0s 13ms/step - loss: 5.2498 - mae: 5.2498\n",
            "Epoch 99/100\n",
            "1/1 [==============================] - 0s 9ms/step - loss: 5.2164 - mae: 5.2164\n",
            "Epoch 100/100\n",
            "1/1 [==============================] - 0s 11ms/step - loss: 5.1826 - mae: 5.1826\n"
          ]
        },
        {
          "output_type": "execute_result",
          "data": {
            "text/plain": [
              "<keras.callbacks.History at 0x7f8745318eb0>"
            ]
          },
          "metadata": {},
          "execution_count": 17
        }
      ]
    },
    {
      "cell_type": "code",
      "source": [
        "# Lets predict and see improvements\n",
        "model.predict([17.0])"
      ],
      "metadata": {
        "colab": {
          "base_uri": "https://localhost:8080/"
        },
        "id": "ulapJnOt268D",
        "outputId": "a983cdd2-578b-4922-c16f-508318516d05"
      },
      "execution_count": null,
      "outputs": [
        {
          "output_type": "stream",
          "name": "stdout",
          "text": [
            "1/1 [==============================] - 0s 80ms/step\n"
          ]
        },
        {
          "output_type": "execute_result",
          "data": {
            "text/plain": [
              "array([[29.570799]], dtype=float32)"
            ]
          },
          "metadata": {},
          "execution_count": 18
        }
      ]
    },
    {
      "cell_type": "code",
      "source": [
        "# Create the model again\n",
        "# changing the optimizer \n",
        "\n",
        "#1. Create a model using the sequential API\n",
        "model = tf.keras.Sequential([\n",
        "    tf.keras.layers.Dense(50,activation = None),\n",
        "    tf.keras.layers.Dense(1)\n",
        "\n",
        "])\n",
        "\n",
        "# complie the model\n",
        "model.compile(\n",
        "    loss=tf.keras.losses.mae,# mae -> mean absolute error\n",
        "    optimizer = tf.keras.optimizers.Adam(lr = 0.01), #SDG-> stochastic gradient descent\n",
        "    metrics = [\"mae\"]\n",
        "               )\n",
        "\n",
        "# Fit the model (this time train for longer)\n",
        "model.fit(tf.expand_dims(X,axis = -1),y, epochs=100)"
      ],
      "metadata": {
        "id": "vSp9ExVR2-qi",
        "colab": {
          "base_uri": "https://localhost:8080/"
        },
        "outputId": "20995470-4d6b-46d2-92d8-cbfcee6b17bd"
      },
      "execution_count": null,
      "outputs": [
        {
          "output_type": "stream",
          "name": "stderr",
          "text": [
            "WARNING:absl:`lr` is deprecated in Keras optimizer, please use `learning_rate` or use the legacy optimizer, e.g.,tf.keras.optimizers.legacy.Adam.\n"
          ]
        },
        {
          "output_type": "stream",
          "name": "stdout",
          "text": [
            "Epoch 1/100\n",
            "1/1 [==============================] - 1s 609ms/step - loss: 13.3683 - mae: 13.3683\n",
            "Epoch 2/100\n",
            "1/1 [==============================] - 0s 20ms/step - loss: 13.3032 - mae: 13.3032\n",
            "Epoch 3/100\n",
            "1/1 [==============================] - 0s 14ms/step - loss: 13.2380 - mae: 13.2380\n",
            "Epoch 4/100\n",
            "1/1 [==============================] - 0s 10ms/step - loss: 13.1727 - mae: 13.1727\n",
            "Epoch 5/100\n",
            "1/1 [==============================] - 0s 17ms/step - loss: 13.1073 - mae: 13.1073\n",
            "Epoch 6/100\n",
            "1/1 [==============================] - 0s 11ms/step - loss: 13.0419 - mae: 13.0419\n",
            "Epoch 7/100\n",
            "1/1 [==============================] - 0s 11ms/step - loss: 12.9764 - mae: 12.9764\n",
            "Epoch 8/100\n",
            "1/1 [==============================] - 0s 11ms/step - loss: 12.9108 - mae: 12.9108\n",
            "Epoch 9/100\n",
            "1/1 [==============================] - 0s 10ms/step - loss: 12.8450 - mae: 12.8450\n",
            "Epoch 10/100\n",
            "1/1 [==============================] - 0s 9ms/step - loss: 12.7792 - mae: 12.7792\n",
            "Epoch 11/100\n",
            "1/1 [==============================] - 0s 16ms/step - loss: 12.7132 - mae: 12.7132\n",
            "Epoch 12/100\n",
            "1/1 [==============================] - 0s 12ms/step - loss: 12.6471 - mae: 12.6471\n",
            "Epoch 13/100\n",
            "1/1 [==============================] - 0s 12ms/step - loss: 12.5809 - mae: 12.5809\n",
            "Epoch 14/100\n",
            "1/1 [==============================] - 0s 11ms/step - loss: 12.5145 - mae: 12.5145\n",
            "Epoch 15/100\n",
            "1/1 [==============================] - 0s 11ms/step - loss: 12.4480 - mae: 12.4480\n",
            "Epoch 16/100\n",
            "1/1 [==============================] - 0s 11ms/step - loss: 12.3812 - mae: 12.3812\n",
            "Epoch 17/100\n",
            "1/1 [==============================] - 0s 11ms/step - loss: 12.3144 - mae: 12.3144\n",
            "Epoch 18/100\n",
            "1/1 [==============================] - 0s 12ms/step - loss: 12.2473 - mae: 12.2473\n",
            "Epoch 19/100\n",
            "1/1 [==============================] - 0s 11ms/step - loss: 12.1800 - mae: 12.1800\n",
            "Epoch 20/100\n",
            "1/1 [==============================] - 0s 18ms/step - loss: 12.1125 - mae: 12.1125\n",
            "Epoch 21/100\n",
            "1/1 [==============================] - 0s 11ms/step - loss: 12.0449 - mae: 12.0449\n",
            "Epoch 22/100\n",
            "1/1 [==============================] - 0s 11ms/step - loss: 11.9769 - mae: 11.9769\n",
            "Epoch 23/100\n",
            "1/1 [==============================] - 0s 11ms/step - loss: 11.9088 - mae: 11.9088\n",
            "Epoch 24/100\n",
            "1/1 [==============================] - 0s 18ms/step - loss: 11.8404 - mae: 11.8404\n",
            "Epoch 25/100\n",
            "1/1 [==============================] - 0s 15ms/step - loss: 11.7718 - mae: 11.7718\n",
            "Epoch 26/100\n",
            "1/1 [==============================] - 0s 12ms/step - loss: 11.7029 - mae: 11.7029\n",
            "Epoch 27/100\n",
            "1/1 [==============================] - 0s 13ms/step - loss: 11.6337 - mae: 11.6337\n",
            "Epoch 28/100\n",
            "1/1 [==============================] - 0s 13ms/step - loss: 11.5642 - mae: 11.5642\n",
            "Epoch 29/100\n",
            "1/1 [==============================] - 0s 10ms/step - loss: 11.4944 - mae: 11.4944\n",
            "Epoch 30/100\n",
            "1/1 [==============================] - 0s 10ms/step - loss: 11.4244 - mae: 11.4244\n",
            "Epoch 31/100\n",
            "1/1 [==============================] - 0s 10ms/step - loss: 11.3540 - mae: 11.3540\n",
            "Epoch 32/100\n",
            "1/1 [==============================] - 0s 11ms/step - loss: 11.2833 - mae: 11.2833\n",
            "Epoch 33/100\n",
            "1/1 [==============================] - 0s 9ms/step - loss: 11.2123 - mae: 11.2123\n",
            "Epoch 34/100\n",
            "1/1 [==============================] - 0s 10ms/step - loss: 11.1410 - mae: 11.1410\n",
            "Epoch 35/100\n",
            "1/1 [==============================] - 0s 11ms/step - loss: 11.0693 - mae: 11.0693\n",
            "Epoch 36/100\n",
            "1/1 [==============================] - 0s 11ms/step - loss: 10.9972 - mae: 10.9972\n",
            "Epoch 37/100\n",
            "1/1 [==============================] - 0s 11ms/step - loss: 10.9249 - mae: 10.9249\n",
            "Epoch 38/100\n",
            "1/1 [==============================] - 0s 10ms/step - loss: 10.8521 - mae: 10.8521\n",
            "Epoch 39/100\n",
            "1/1 [==============================] - 0s 11ms/step - loss: 10.7789 - mae: 10.7789\n",
            "Epoch 40/100\n",
            "1/1 [==============================] - 0s 11ms/step - loss: 10.7054 - mae: 10.7054\n",
            "Epoch 41/100\n",
            "1/1 [==============================] - 0s 11ms/step - loss: 10.6315 - mae: 10.6315\n",
            "Epoch 42/100\n",
            "1/1 [==============================] - 0s 11ms/step - loss: 10.5572 - mae: 10.5572\n",
            "Epoch 43/100\n",
            "1/1 [==============================] - 0s 12ms/step - loss: 10.4824 - mae: 10.4824\n",
            "Epoch 44/100\n",
            "1/1 [==============================] - 0s 11ms/step - loss: 10.4073 - mae: 10.4073\n",
            "Epoch 45/100\n",
            "1/1 [==============================] - 0s 11ms/step - loss: 10.3317 - mae: 10.3317\n",
            "Epoch 46/100\n",
            "1/1 [==============================] - 0s 11ms/step - loss: 10.2557 - mae: 10.2557\n",
            "Epoch 47/100\n",
            "1/1 [==============================] - 0s 11ms/step - loss: 10.1793 - mae: 10.1793\n",
            "Epoch 48/100\n",
            "1/1 [==============================] - 0s 11ms/step - loss: 10.1024 - mae: 10.1024\n",
            "Epoch 49/100\n",
            "1/1 [==============================] - 0s 11ms/step - loss: 10.0250 - mae: 10.0250\n",
            "Epoch 50/100\n",
            "1/1 [==============================] - 0s 11ms/step - loss: 9.9472 - mae: 9.9472\n",
            "Epoch 51/100\n",
            "1/1 [==============================] - 0s 11ms/step - loss: 9.8689 - mae: 9.8689\n",
            "Epoch 52/100\n",
            "1/1 [==============================] - 0s 11ms/step - loss: 9.7901 - mae: 9.7901\n",
            "Epoch 53/100\n",
            "1/1 [==============================] - 0s 10ms/step - loss: 9.7109 - mae: 9.7109\n",
            "Epoch 54/100\n",
            "1/1 [==============================] - 0s 12ms/step - loss: 9.6311 - mae: 9.6311\n",
            "Epoch 55/100\n",
            "1/1 [==============================] - 0s 12ms/step - loss: 9.5509 - mae: 9.5509\n",
            "Epoch 56/100\n",
            "1/1 [==============================] - 0s 11ms/step - loss: 9.4701 - mae: 9.4701\n",
            "Epoch 57/100\n",
            "1/1 [==============================] - 0s 11ms/step - loss: 9.3888 - mae: 9.3888\n",
            "Epoch 58/100\n",
            "1/1 [==============================] - 0s 14ms/step - loss: 9.3070 - mae: 9.3070\n",
            "Epoch 59/100\n",
            "1/1 [==============================] - 0s 18ms/step - loss: 9.2247 - mae: 9.2247\n",
            "Epoch 60/100\n",
            "1/1 [==============================] - 0s 12ms/step - loss: 9.1418 - mae: 9.1418\n",
            "Epoch 61/100\n",
            "1/1 [==============================] - 0s 12ms/step - loss: 9.0584 - mae: 9.0584\n",
            "Epoch 62/100\n",
            "1/1 [==============================] - 0s 11ms/step - loss: 8.9745 - mae: 8.9745\n",
            "Epoch 63/100\n",
            "1/1 [==============================] - 0s 11ms/step - loss: 8.8900 - mae: 8.8900\n",
            "Epoch 64/100\n",
            "1/1 [==============================] - 0s 12ms/step - loss: 8.8049 - mae: 8.8049\n",
            "Epoch 65/100\n",
            "1/1 [==============================] - 0s 12ms/step - loss: 8.7193 - mae: 8.7193\n",
            "Epoch 66/100\n",
            "1/1 [==============================] - 0s 15ms/step - loss: 8.6331 - mae: 8.6331\n",
            "Epoch 67/100\n",
            "1/1 [==============================] - 0s 12ms/step - loss: 8.5463 - mae: 8.5463\n",
            "Epoch 68/100\n",
            "1/1 [==============================] - 0s 11ms/step - loss: 8.4590 - mae: 8.4590\n",
            "Epoch 69/100\n",
            "1/1 [==============================] - 0s 10ms/step - loss: 8.3710 - mae: 8.3710\n",
            "Epoch 70/100\n",
            "1/1 [==============================] - 0s 11ms/step - loss: 8.2825 - mae: 8.2825\n",
            "Epoch 71/100\n",
            "1/1 [==============================] - 0s 12ms/step - loss: 8.1934 - mae: 8.1934\n",
            "Epoch 72/100\n",
            "1/1 [==============================] - 0s 11ms/step - loss: 8.1036 - mae: 8.1036\n",
            "Epoch 73/100\n",
            "1/1 [==============================] - 0s 11ms/step - loss: 8.0133 - mae: 8.0133\n",
            "Epoch 74/100\n",
            "1/1 [==============================] - 0s 12ms/step - loss: 7.9223 - mae: 7.9223\n",
            "Epoch 75/100\n",
            "1/1 [==============================] - 0s 11ms/step - loss: 7.8307 - mae: 7.8307\n",
            "Epoch 76/100\n",
            "1/1 [==============================] - 0s 12ms/step - loss: 7.7385 - mae: 7.7385\n",
            "Epoch 77/100\n",
            "1/1 [==============================] - 0s 12ms/step - loss: 7.6456 - mae: 7.6456\n",
            "Epoch 78/100\n",
            "1/1 [==============================] - 0s 12ms/step - loss: 7.5522 - mae: 7.5522\n",
            "Epoch 79/100\n",
            "1/1 [==============================] - 0s 10ms/step - loss: 7.4580 - mae: 7.4580\n",
            "Epoch 80/100\n",
            "1/1 [==============================] - 0s 10ms/step - loss: 7.3633 - mae: 7.3633\n",
            "Epoch 81/100\n",
            "1/1 [==============================] - 0s 10ms/step - loss: 7.2678 - mae: 7.2678\n",
            "Epoch 82/100\n",
            "1/1 [==============================] - 0s 10ms/step - loss: 7.1718 - mae: 7.1718\n",
            "Epoch 83/100\n",
            "1/1 [==============================] - 0s 11ms/step - loss: 7.0750 - mae: 7.0750\n",
            "Epoch 84/100\n",
            "1/1 [==============================] - 0s 11ms/step - loss: 6.9776 - mae: 6.9776\n",
            "Epoch 85/100\n",
            "1/1 [==============================] - 0s 11ms/step - loss: 6.8795 - mae: 6.8795\n",
            "Epoch 86/100\n",
            "1/1 [==============================] - 0s 11ms/step - loss: 6.7808 - mae: 6.7808\n",
            "Epoch 87/100\n",
            "1/1 [==============================] - 0s 11ms/step - loss: 6.7055 - mae: 6.7055\n",
            "Epoch 88/100\n",
            "1/1 [==============================] - 0s 12ms/step - loss: 6.6930 - mae: 6.6930\n",
            "Epoch 89/100\n",
            "1/1 [==============================] - 0s 12ms/step - loss: 6.6807 - mae: 6.6807\n",
            "Epoch 90/100\n",
            "1/1 [==============================] - 0s 13ms/step - loss: 6.6688 - mae: 6.6688\n",
            "Epoch 91/100\n",
            "1/1 [==============================] - 0s 12ms/step - loss: 6.6571 - mae: 6.6571\n",
            "Epoch 92/100\n",
            "1/1 [==============================] - 0s 12ms/step - loss: 6.6456 - mae: 6.6456\n",
            "Epoch 93/100\n",
            "1/1 [==============================] - 0s 13ms/step - loss: 6.6343 - mae: 6.6343\n",
            "Epoch 94/100\n",
            "1/1 [==============================] - 0s 11ms/step - loss: 6.6232 - mae: 6.6232\n",
            "Epoch 95/100\n",
            "1/1 [==============================] - 0s 16ms/step - loss: 6.6123 - mae: 6.6123\n",
            "Epoch 96/100\n",
            "1/1 [==============================] - 0s 10ms/step - loss: 6.6015 - mae: 6.6015\n",
            "Epoch 97/100\n",
            "1/1 [==============================] - 0s 11ms/step - loss: 6.5909 - mae: 6.5909\n",
            "Epoch 98/100\n",
            "1/1 [==============================] - 0s 12ms/step - loss: 6.5920 - mae: 6.5920\n",
            "Epoch 99/100\n",
            "1/1 [==============================] - 0s 11ms/step - loss: 6.6015 - mae: 6.6015\n",
            "Epoch 100/100\n",
            "1/1 [==============================] - 0s 10ms/step - loss: 6.6041 - mae: 6.6041\n"
          ]
        },
        {
          "output_type": "execute_result",
          "data": {
            "text/plain": [
              "<keras.callbacks.History at 0x7f8745c5dc00>"
            ]
          },
          "metadata": {},
          "execution_count": 19
        }
      ]
    },
    {
      "cell_type": "code",
      "source": [
        "# Lets predict and see improvements\n",
        "model.predict([17.0])"
      ],
      "metadata": {
        "colab": {
          "base_uri": "https://localhost:8080/"
        },
        "id": "viypXaLZ3xEv",
        "outputId": "38858381-c36f-4280-8296-db6937df66e7"
      },
      "execution_count": null,
      "outputs": [
        {
          "output_type": "stream",
          "name": "stdout",
          "text": [
            "1/1 [==============================] - 0s 70ms/step\n"
          ]
        },
        {
          "output_type": "execute_result",
          "data": {
            "text/plain": [
              "array([[32.06253]], dtype=float32)"
            ]
          },
          "metadata": {},
          "execution_count": 20
        }
      ]
    },
    {
      "cell_type": "markdown",
      "source": [
        "### Evaluating a models Performance\n",
        "\n",
        "When evaluating models, visualise\n"
      ],
      "metadata": {
        "id": "AKFV30Od30jg"
      }
    },
    {
      "cell_type": "code",
      "source": [
        "# make a bigger dataset\n",
        "\n",
        "X = tf.range(-100,100,4)\n",
        "X"
      ],
      "metadata": {
        "colab": {
          "base_uri": "https://localhost:8080/"
        },
        "id": "0R9il_ETKhoP",
        "outputId": "96a18dd8-2c12-4ed9-84b9-7c0db5a04aef"
      },
      "execution_count": null,
      "outputs": [
        {
          "output_type": "execute_result",
          "data": {
            "text/plain": [
              "<tf.Tensor: shape=(50,), dtype=int32, numpy=\n",
              "array([-100,  -96,  -92,  -88,  -84,  -80,  -76,  -72,  -68,  -64,  -60,\n",
              "        -56,  -52,  -48,  -44,  -40,  -36,  -32,  -28,  -24,  -20,  -16,\n",
              "        -12,   -8,   -4,    0,    4,    8,   12,   16,   20,   24,   28,\n",
              "         32,   36,   40,   44,   48,   52,   56,   60,   64,   68,   72,\n",
              "         76,   80,   84,   88,   92,   96], dtype=int32)>"
            ]
          },
          "metadata": {},
          "execution_count": 21
        }
      ]
    },
    {
      "cell_type": "code",
      "source": [
        "# make labels for the dataset\n",
        "y = X + 10\n",
        "y"
      ],
      "metadata": {
        "colab": {
          "base_uri": "https://localhost:8080/"
        },
        "id": "oddynbdhK424",
        "outputId": "e1eb518e-8654-4878-d287-5b80622ff2f0"
      },
      "execution_count": null,
      "outputs": [
        {
          "output_type": "execute_result",
          "data": {
            "text/plain": [
              "<tf.Tensor: shape=(50,), dtype=int32, numpy=\n",
              "array([-90, -86, -82, -78, -74, -70, -66, -62, -58, -54, -50, -46, -42,\n",
              "       -38, -34, -30, -26, -22, -18, -14, -10,  -6,  -2,   2,   6,  10,\n",
              "        14,  18,  22,  26,  30,  34,  38,  42,  46,  50,  54,  58,  62,\n",
              "        66,  70,  74,  78,  82,  86,  90,  94,  98, 102, 106], dtype=int32)>"
            ]
          },
          "metadata": {},
          "execution_count": 22
        }
      ]
    },
    {
      "cell_type": "code",
      "source": [
        "# Visualise the data\n",
        "import matplotlib.pyplot as plt\n",
        "\n",
        "plt.scatter(X,y)\n"
      ],
      "metadata": {
        "colab": {
          "base_uri": "https://localhost:8080/",
          "height": 447
        },
        "id": "jBPlm1yXLL_M",
        "outputId": "8df73055-33c7-47a3-a461-d95009137b51"
      },
      "execution_count": null,
      "outputs": [
        {
          "output_type": "execute_result",
          "data": {
            "text/plain": [
              "<matplotlib.collections.PathCollection at 0x7f8745c37640>"
            ]
          },
          "metadata": {},
          "execution_count": 23
        },
        {
          "output_type": "display_data",
          "data": {
            "text/plain": [
              "<Figure size 640x480 with 1 Axes>"
            ],
            "image/png": "[encoded data removed]"
          },
          "metadata": {}
        }
      ]
    },
    {
      "cell_type": "markdown",
      "source": [
        "# The 3 sets...\n",
        "\n",
        "training set(70-80%)\n",
        "\n",
        "Validation set(10-15%)\n",
        "\n",
        "Test set(10-15)"
      ],
      "metadata": {
        "id": "6CDTaaIlLTzE"
      }
    },
    {
      "cell_type": "code",
      "source": [
        "# check lenght of the data we have\n",
        "len(X)"
      ],
      "metadata": {
        "colab": {
          "base_uri": "https://localhost:8080/"
        },
        "id": "qF_0woN4LpeW",
        "outputId": "64935bc3-7c60-4086-81fe-5f639fd09cd0"
      },
      "execution_count": null,
      "outputs": [
        {
          "output_type": "execute_result",
          "data": {
            "text/plain": [
              "50"
            ]
          },
          "metadata": {},
          "execution_count": 24
        }
      ]
    },
    {
      "cell_type": "code",
      "source": [
        "# Split the data in to train and test set\n",
        "\n",
        "X_train = X[:40]\n",
        "y_train = y[:40]\n",
        "\n",
        "X_test = X[40:]\n",
        "y_test = y[40:]\n",
        "\n",
        "\n",
        "len(y_test)"
      ],
      "metadata": {
        "colab": {
          "base_uri": "https://localhost:8080/"
        },
        "id": "KSmDsZ12MrF1",
        "outputId": "ac8051ed-8f2e-4fad-dc6e-d355d1687a2f"
      },
      "execution_count": null,
      "outputs": [
        {
          "output_type": "execute_result",
          "data": {
            "text/plain": [
              "10"
            ]
          },
          "metadata": {},
          "execution_count": 25
        }
      ]
    },
    {
      "cell_type": "markdown",
      "source": [
        "## Visualing the data"
      ],
      "metadata": {
        "id": "VrShrzHMPg17"
      }
    },
    {
      "cell_type": "code",
      "source": [
        "plt.figure(figsize=(10,7))\n",
        "plt.scatter(X_train,y_train,c=\"b\",label=\"Training data\")\n",
        "plt.scatter(X_test,y_test,c=\"g\",label =\"Testing data\")\n",
        "plt.legend()"
      ],
      "metadata": {
        "colab": {
          "base_uri": "https://localhost:8080/",
          "height": 545
        },
        "id": "7ASZunHNTlDi",
        "outputId": "bb453604-0b86-49bb-a8ae-3cc4dc7e7107"
      },
      "execution_count": null,
      "outputs": [
        {
          "output_type": "execute_result",
          "data": {
            "text/plain": [
              "<matplotlib.legend.Legend at 0x7f87440d1720>"
            ]
          },
          "metadata": {},
          "execution_count": 26
        },
        {
          "output_type": "display_data",
          "data": {
            "text/plain": [
              "<Figure size 1000x700 with 1 Axes>"
            ],
            "image/png": "[encoded data removed]"
          },
          "metadata": {}
        }
      ]
    },
    {
      "cell_type": "code",
      "source": [
        "# Creating the model\n",
        "\n",
        "model = tf.keras.Sequential(\n",
        "    [tf.keras.layers.Dense(1)]\n",
        ")\n",
        "\n",
        "# compile the model\n",
        "model.compile(loss=tf.keras.losses.mae,\n",
        "              optimizer = tf.keras.optimizers.SGD(),\n",
        "              metrics=[\"mae\"])\n",
        "\n",
        "# fit the model\n",
        "# model.fit(X_train,y_train,epochs=100)"
      ],
      "metadata": {
        "id": "4DWw3ViwUQvr"
      },
      "execution_count": null,
      "outputs": []
    },
    {
      "cell_type": "markdown",
      "source": [
        "##Visulaize the model"
      ],
      "metadata": {
        "id": "9VWyiID7XbIm"
      }
    },
    {
      "cell_type": "code",
      "source": [
        "# model.summary()\n",
        "# model.build()"
      ],
      "metadata": {
        "id": "LUqyzOzhYAxh"
      },
      "execution_count": null,
      "outputs": []
    },
    {
      "cell_type": "code",
      "source": [
        "tf.random.set_seed(42)\n",
        "\n",
        "model=tf.keras.Sequential([\n",
        "    tf.keras.layers.Dense(10,input_shape=[1],activation = \"relu\"),\n",
        "    tf.keras.layers.Dense(1,name = \"output_layer\")\n",
        "],name=\"model_1\")\n",
        "\n",
        "model.compile(loss = tf.keras.losses.mae,\n",
        "              optimizer = tf.keras.optimizers.SGD(),\n",
        "              metrics = ['mae'])"
      ],
      "metadata": {
        "id": "FIEX74ELYEiW"
      },
      "execution_count": null,
      "outputs": []
    },
    {
      "cell_type": "code",
      "source": [
        "model.summary()\n"
      ],
      "metadata": {
        "colab": {
          "base_uri": "https://localhost:8080/"
        },
        "id": "KEHgL2w2ZW3H",
        "outputId": "ab842926-17fa-479c-9ade-179b26fe3a44"
      },
      "execution_count": null,
      "outputs": [
        {
          "output_type": "stream",
          "name": "stdout",
          "text": [
            "Model: \"model_1\"\n",
            "_________________________________________________________________\n",
            " Layer (type)                Output Shape              Param #   \n",
            "=================================================================\n",
            " dense_7 (Dense)             (None, 10)                20        \n",
            "                                                                 \n",
            " output_layer (Dense)        (None, 1)                 11        \n",
            "                                                                 \n",
            "=================================================================\n",
            "Total params: 31\n",
            "Trainable params: 31\n",
            "Non-trainable params: 0\n",
            "_________________________________________________________________\n"
          ]
        }
      ]
    },
    {
      "cell_type": "markdown",
      "source": [
        "total params - total numner of paramerters in the model\n",
        "\n",
        "trainabe parameters - parameters (patterns) the model can update as it trains\n",
        "\n",
        "non-trainable parameter - parameters that can be updated during training."
      ],
      "metadata": {
        "id": "AImnpPkhZg6g"
      }
    },
    {
      "cell_type": "code",
      "source": [
        "model.fit(X_train,y_train,verbose=0,epochs=200)"
      ],
      "metadata": {
        "colab": {
          "base_uri": "https://localhost:8080/"
        },
        "id": "0n6wDDJpwQxR",
        "outputId": "a28108ec-8df2-402e-8bfc-9932407726d5"
      },
      "execution_count": null,
      "outputs": [
        {
          "output_type": "execute_result",
          "data": {
            "text/plain": [
              "<keras.callbacks.History at 0x7f873dc67f40>"
            ]
          },
          "metadata": {},
          "execution_count": 31
        }
      ]
    },
    {
      "cell_type": "code",
      "source": [
        "from keras.utils.vis_utils import plot_model\n",
        "# from tensorflow.keras.utils import plot_model\n",
        "\n",
        "plot_model(model=model,show_shapes=True)\n"
      ],
      "metadata": {
        "colab": {
          "base_uri": "https://localhost:8080/",
          "height": 312
        },
        "id": "2H6He1g3wgqx",
        "outputId": "e0745691-04de-498f-eb5d-71edd28a133d"
      },
      "execution_count": null,
      "outputs": [
        {
          "output_type": "execute_result",
          "data": {
            "image/png": "[encoded data removed]",
            "text/plain": [
              "<IPython.core.display.Image object>"
            ]
          },
          "metadata": {},
          "execution_count": 32
        }
      ]
    },
    {
      "cell_type": "markdown",
      "source": [
        "### visulaizing the models prediction\n",
        "\n",
        "To viualize predictions. plot them against the ground truth labels"
      ],
      "metadata": {
        "id": "rXNznO-Cxe-E"
      }
    },
    {
      "cell_type": "code",
      "source": [
        "# Make some predictions\n",
        "\n",
        "y_pred = model.predict(X_test)\n",
        "y_pred"
      ],
      "metadata": {
        "colab": {
          "base_uri": "https://localhost:8080/"
        },
        "id": "BQOvazyE0wIZ",
        "outputId": "1a6dc56a-d66b-420f-b4b9-3ee968daea8d"
      },
      "execution_count": null,
      "outputs": [
        {
          "output_type": "stream",
          "name": "stderr",
          "text": [
            "WARNING:tensorflow:5 out of the last 5 calls to <function Model.make_predict_function.<locals>.predict_function at 0x7f873dd3a710> triggered tf.function retracing. Tracing is expensive and the excessive number of tracings could be due to (1) creating @tf.function repeatedly in a loop, (2) passing tensors with different shapes, (3) passing Python objects instead of tensors. For (1), please define your @tf.function outside of the loop. For (2), @tf.function has reduce_retracing=True option that can avoid unnecessary retracing. For (3), please refer to https://www.tensorflow.org/guide/function#controlling_retracing and https://www.tensorflow.org/api_docs/python/tf/function for  more details.\n"
          ]
        },
        {
          "output_type": "stream",
          "name": "stdout",
          "text": [
            "1/1 [==============================] - 0s 66ms/step\n"
          ]
        },
        {
          "output_type": "execute_result",
          "data": {
            "text/plain": [
              "array([[ 65.17802 ],\n",
              "       [ 69.43444 ],\n",
              "       [ 73.690865],\n",
              "       [ 77.94728 ],\n",
              "       [ 82.2037  ],\n",
              "       [ 86.46011 ],\n",
              "       [ 90.71653 ],\n",
              "       [ 94.97295 ],\n",
              "       [ 99.22937 ],\n",
              "       [103.485794]], dtype=float32)"
            ]
          },
          "metadata": {},
          "execution_count": 33
        }
      ]
    },
    {
      "cell_type": "code",
      "source": [
        "tf.squeeze(y_pred)"
      ],
      "metadata": {
        "colab": {
          "base_uri": "https://localhost:8080/"
        },
        "id": "wtX9Whx6KaYx",
        "outputId": "5aba896a-4595-4be0-837b-55a4ca3984ef"
      },
      "execution_count": null,
      "outputs": [
        {
          "output_type": "execute_result",
          "data": {
            "text/plain": [
              "<tf.Tensor: shape=(10,), dtype=float32, numpy=\n",
              "array([ 65.17802 ,  69.43444 ,  73.690865,  77.94728 ,  82.2037  ,\n",
              "        86.46011 ,  90.71653 ,  94.97295 ,  99.22937 , 103.485794],\n",
              "      dtype=float32)>"
            ]
          },
          "metadata": {},
          "execution_count": 34
        }
      ]
    },
    {
      "cell_type": "code",
      "source": [
        "y_test"
      ],
      "metadata": {
        "colab": {
          "base_uri": "https://localhost:8080/"
        },
        "id": "u906Gm3b1MOz",
        "outputId": "e3a2cbff-f459-4f65-91ab-415839347a97"
      },
      "execution_count": null,
      "outputs": [
        {
          "output_type": "execute_result",
          "data": {
            "text/plain": [
              "<tf.Tensor: shape=(10,), dtype=int32, numpy=array([ 70,  74,  78,  82,  86,  90,  94,  98, 102, 106], dtype=int32)>"
            ]
          },
          "metadata": {},
          "execution_count": 35
        }
      ]
    },
    {
      "cell_type": "code",
      "source": [
        "# plotting funtion\n",
        "\n",
        "def plot_predictions(train_data=X_train,\n",
        "                     train_labels = y_train,\n",
        "                     test_data = X_test,\n",
        "                     test_labes = y_test,\n",
        "                     predictions = y_pred):\n",
        "  '''\n",
        "  plots training data, test data and copares predictions to ground truth labels\n",
        "  '''\n",
        "  plt.figure(figsize=(10,7))\n",
        "  plt.scatter(train_data, train_labels, c = 'b', label='Training_data')\n",
        "  plt.scatter(test_data, test_labes, c = 'g', label='Testing data')\n",
        "  plt.scatter(test_data,predictions,c='r',label=\"predictions\")\n",
        "  plt.legend();\n",
        "\n",
        " "
      ],
      "metadata": {
        "id": "sFdGnC1u1Q-j"
      },
      "execution_count": null,
      "outputs": []
    },
    {
      "cell_type": "code",
      "source": [
        "plot_predictions(train_data=X_train,\n",
        "                 train_labels=y_train,\n",
        "                 test_data=X_test,\n",
        "                 test_labes=y_test,\n",
        "                 predictions=y_pred)"
      ],
      "metadata": {
        "colab": {
          "base_uri": "https://localhost:8080/",
          "height": 527
        },
        "id": "ze2mpFGb1fia",
        "outputId": "3fb12936-6653-43ec-d446-990dab917195"
      },
      "execution_count": null,
      "outputs": [
        {
          "output_type": "display_data",
          "data": {
            "text/plain": [
              "<Figure size 1000x700 with 1 Axes>"
            ],
            "image/png": "[encoded data removed]"
          },
          "metadata": {}
        }
      ]
    },
    {
      "cell_type": "markdown",
      "source": [
        "### Evaluating the models predictions with regression metrics\n",
        "\n",
        "Depending on the problem we are working on, there will be different evalution metrics to evaluate the models preformance. two of the main ones are:\n",
        "\n",
        "> MAE => mean absolute error\n",
        "> MSE => mean square error "
      ],
      "metadata": {
        "id": "xaNDVwuH6nZU"
      }
    },
    {
      "cell_type": "code",
      "source": [
        "model.evaluate(X_test,y_test)"
      ],
      "metadata": {
        "colab": {
          "base_uri": "https://localhost:8080/"
        },
        "id": "zmEqxkO88qYk",
        "outputId": "b772f40c-89b1-49f1-edc8-fdbfedc9e109"
      },
      "execution_count": null,
      "outputs": [
        {
          "output_type": "stream",
          "name": "stdout",
          "text": [
            "1/1 [==============================] - 0s 169ms/step - loss: 3.6681 - mae: 3.6681\n"
          ]
        },
        {
          "output_type": "execute_result",
          "data": {
            "text/plain": [
              "[3.6680939197540283, 3.6680939197540283]"
            ]
          },
          "metadata": {},
          "execution_count": 38
        }
      ]
    },
    {
      "cell_type": "code",
      "source": [],
      "metadata": {
        "id": "zAN8qqO6Kjkx"
      },
      "execution_count": null,
      "outputs": []
    },
    {
      "cell_type": "code",
      "source": [
        "mae = tf.metrics.mean_absolute_error(y_true=y_test,\n",
        "                                y_pred = tf.squeeze(y_pred))\n",
        "\n",
        "mae.numpy()"
      ],
      "metadata": {
        "colab": {
          "base_uri": "https://localhost:8080/"
        },
        "id": "HE33zFolICvA",
        "outputId": "438e740b-0feb-4b81-f80a-8acfb8bf16f0"
      },
      "execution_count": null,
      "outputs": [
        {
          "output_type": "execute_result",
          "data": {
            "text/plain": [
              "3.668094"
            ]
          },
          "metadata": {},
          "execution_count": 39
        }
      ]
    },
    {
      "cell_type": "markdown",
      "source": [
        "# Mean Square error"
      ],
      "metadata": {
        "id": "1JK07nGXJnWL"
      }
    },
    {
      "cell_type": "code",
      "source": [
        "mse = tf.metrics.mean_squared_error(y_true=y_test,\n",
        "                                   y_pred = tf.squeeze(y_pred))\n",
        "\n",
        "mse"
      ],
      "metadata": {
        "colab": {
          "base_uri": "https://localhost:8080/"
        },
        "id": "r2Zv5jKYK17Y",
        "outputId": "47e57c1e-1139-4232-e085-5b6e5eb51c77"
      },
      "execution_count": null,
      "outputs": [
        {
          "output_type": "execute_result",
          "data": {
            "text/plain": [
              "<tf.Tensor: shape=(), dtype=float32, numpy=13.997355>"
            ]
          },
          "metadata": {},
          "execution_count": 40
        }
      ]
    },
    {
      "cell_type": "code",
      "source": [
        "# Evaluation Finctions\n",
        "\n",
        "def mae(y_true,y_pred):\n",
        "  return tf.metrics.mean_absolute_error(y_true=y_true,y_pred = tf.squeeze(y_pred))\n",
        "\n",
        "def mse(y_true,y_pred):\n",
        "   return tf.metrics.mean_squared_error(y_true=y_test, y_pred = tf.squeeze(y_pred))\n"
      ],
      "metadata": {
        "id": "QvnwmDM-LL4c"
      },
      "execution_count": null,
      "outputs": []
    },
    {
      "cell_type": "markdown",
      "source": [
        "## Running Experiments to improve our model"
      ],
      "metadata": {
        "id": "AGUDtQRwZm-R"
      }
    },
    {
      "cell_type": "markdown",
      "source": [
        "**Build model_1**\n",
        "\n",
        "Same as original model. 1 layer, trained for 100 epochs"
      ],
      "metadata": {
        "id": "rTRWYr4mZ0f3"
      }
    },
    {
      "cell_type": "code",
      "source": [
        "X_train.shape\n"
      ],
      "metadata": {
        "colab": {
          "base_uri": "https://localhost:8080/"
        },
        "id": "567TguRed-pH",
        "outputId": "fcd6e0e9-d3e0-4cf6-8c25-3ebf2d9fe0cf"
      },
      "execution_count": null,
      "outputs": [
        {
          "output_type": "execute_result",
          "data": {
            "text/plain": [
              "TensorShape([40])"
            ]
          },
          "metadata": {},
          "execution_count": 42
        }
      ]
    },
    {
      "cell_type": "code",
      "source": [
        "# set random set\n",
        "\n",
        "tf.random.set_seed(42)\n",
        "\n",
        "model_1 = tf.keras.Sequential([\n",
        "    tf.keras.layers.Dense(1)\n",
        "])\n",
        "\n",
        "model_1.compile(loss=tf.losses.mae,\n",
        "                optimizer = tf.keras.optimizers.SGD(),\n",
        "                metrics = ['mae'])\n",
        "\n",
        "# model_1.fit(X_train,y_train,epochs=100)\n",
        "model_1.fit(tf.expand_dims(X_train,axis=-1),y_train,epochs=100,verbose = 0)"
      ],
      "metadata": {
        "colab": {
          "base_uri": "https://localhost:8080/"
        },
        "id": "CUpm4RY6aXsM",
        "outputId": "d7dd6127-d990-41e6-e837-09f37f0d3658"
      },
      "execution_count": null,
      "outputs": [
        {
          "output_type": "execute_result",
          "data": {
            "text/plain": [
              "<keras.callbacks.History at 0x7f873f7e84f0>"
            ]
          },
          "metadata": {},
          "execution_count": 43
        }
      ]
    },
    {
      "cell_type": "code",
      "source": [
        "y_preds_1 = model_1.predict(X_test)\n",
        "plot_predictions(predictions= y_preds_1)"
      ],
      "metadata": {
        "colab": {
          "base_uri": "https://localhost:8080/",
          "height": 582
        },
        "id": "lIZciQw5b0Gw",
        "outputId": "880b34f8-8122-4db5-8d21-92d1c212725f"
      },
      "execution_count": null,
      "outputs": [
        {
          "output_type": "stream",
          "name": "stderr",
          "text": [
            "WARNING:tensorflow:6 out of the last 6 calls to <function Model.make_predict_function.<locals>.predict_function at 0x7f873dd3b0a0> triggered tf.function retracing. Tracing is expensive and the excessive number of tracings could be due to (1) creating @tf.function repeatedly in a loop, (2) passing tensors with different shapes, (3) passing Python objects instead of tensors. For (1), please define your @tf.function outside of the loop. For (2), @tf.function has reduce_retracing=True option that can avoid unnecessary retracing. For (3), please refer to https://www.tensorflow.org/guide/function#controlling_retracing and https://www.tensorflow.org/api_docs/python/tf/function for  more details.\n"
          ]
        },
        {
          "output_type": "stream",
          "name": "stdout",
          "text": [
            "1/1 [==============================] - 0s 76ms/step\n"
          ]
        },
        {
          "output_type": "display_data",
          "data": {
            "text/plain": [
              "<Figure size 1000x700 with 1 Axes>"
            ],
            "image/png": "[encoded data removed]"
          },
          "metadata": {}
        }
      ]
    },
    {
      "cell_type": "code",
      "source": [
        "# Calc model_1 evaluation metrix\n",
        "mae_1 = mae(y_test,y_preds_1)\n",
        "mse_1 = mse(y_test,y_preds_1)\n",
        "mae_1,mse_1"
      ],
      "metadata": {
        "colab": {
          "base_uri": "https://localhost:8080/"
        },
        "id": "x9BTmYUofpeU",
        "outputId": "b7867fac-a36a-4982-ff02-c02e5efa9f2b"
      },
      "execution_count": null,
      "outputs": [
        {
          "output_type": "execute_result",
          "data": {
            "text/plain": [
              "(<tf.Tensor: shape=(), dtype=float32, numpy=14.901662>,\n",
              " <tf.Tensor: shape=(), dtype=float32, numpy=222.88828>)"
            ]
          },
          "metadata": {},
          "execution_count": 45
        }
      ]
    },
    {
      "cell_type": "markdown",
      "source": [
        " **Build model 2**\n",
        "\n",
        " Two dense layer for 100 epochs"
      ],
      "metadata": {
        "id": "0rwOYCDsf3nM"
      }
    },
    {
      "cell_type": "code",
      "source": [
        "# set random set\n",
        "\n",
        "tf.random.set_seed(42)\n",
        "\n",
        "model_2 = tf.keras.Sequential([\n",
        "    tf.keras.layers.Dense(10),\n",
        "    tf.keras.layers.Dense(1)\n",
        "])\n",
        "\n",
        "model_2.compile(loss=tf.losses.mae,\n",
        "                optimizer = tf.keras.optimizers.SGD(),\n",
        "                metrics = ['mae'])\n",
        "\n",
        "# model_1.fit(X_train,y_train,epochs=100)\n",
        "model_2.fit(tf.expand_dims(X_train,axis=-1),y_train,epochs=100,verbose = 0)"
      ],
      "metadata": {
        "colab": {
          "base_uri": "https://localhost:8080/"
        },
        "id": "quheRV-ihpQx",
        "outputId": "1684f506-7f1f-4b13-96c1-be7dcb6381a1"
      },
      "execution_count": null,
      "outputs": [
        {
          "output_type": "execute_result",
          "data": {
            "text/plain": [
              "<keras.callbacks.History at 0x7f873f503ac0>"
            ]
          },
          "metadata": {},
          "execution_count": 46
        }
      ]
    },
    {
      "cell_type": "code",
      "source": [
        "y_preds_2 = model_2.predict(X_test)\n",
        "plot_predictions(predictions= y_preds_2)"
      ],
      "metadata": {
        "colab": {
          "base_uri": "https://localhost:8080/",
          "height": 541
        },
        "id": "miI6v9jZh11C",
        "outputId": "da1b5127-9c6a-493a-91b8-fec23722a463"
      },
      "execution_count": null,
      "outputs": [
        {
          "output_type": "stream",
          "name": "stdout",
          "text": [
            "1/1 [==============================] - 0s 54ms/step\n"
          ]
        },
        {
          "output_type": "display_data",
          "data": {
            "text/plain": [
              "<Figure size 1000x700 with 1 Axes>"
            ],
            "image/png": "[encoded data removed]"
          },
          "metadata": {}
        }
      ]
    },
    {
      "cell_type": "code",
      "source": [
        "mae_2 = mae(y_test,y_preds_2)\n",
        "mse_2 = mse(y_test,y_preds_2)\n",
        "mae_2,mse_2"
      ],
      "metadata": {
        "colab": {
          "base_uri": "https://localhost:8080/"
        },
        "id": "SawpmUCUh6aX",
        "outputId": "9588f55c-8742-49e3-ac68-e260da5d4690"
      },
      "execution_count": null,
      "outputs": [
        {
          "output_type": "execute_result",
          "data": {
            "text/plain": [
              "(<tf.Tensor: shape=(), dtype=float32, numpy=26.15952>,\n",
              " <tf.Tensor: shape=(), dtype=float32, numpy=709.8978>)"
            ]
          },
          "metadata": {},
          "execution_count": 48
        }
      ]
    },
    {
      "cell_type": "markdown",
      "source": [
        "**Build Mode 3**\n",
        "\n",
        "model with 2 dense layers, 200 epochs"
      ],
      "metadata": {
        "id": "I9tZaFPziJIH"
      }
    },
    {
      "cell_type": "code",
      "source": [
        "# set random set\n",
        "\n",
        "tf.random.set_seed(42)\n",
        "\n",
        "model_3 = tf.keras.Sequential([\n",
        "    tf.keras.layers.Dense(10),\n",
        "    tf.keras.layers.Dense(1)\n",
        "])\n",
        "\n",
        "model_3.compile(loss=tf.losses.mae,\n",
        "                optimizer = tf.keras.optimizers.SGD(),\n",
        "                metrics = ['mae'])\n",
        "\n",
        "# model_1.fit(X_train,y_train,epochs=100)\n",
        "model_3.fit(tf.expand_dims(X_train,axis=-1),y_train,epochs=200,verbose = 0)"
      ],
      "metadata": {
        "colab": {
          "base_uri": "https://localhost:8080/"
        },
        "id": "dlQLA3CDje9X",
        "outputId": "eddc6062-ec24-4d8c-8c41-1b3ed5627dd7"
      },
      "execution_count": null,
      "outputs": [
        {
          "output_type": "execute_result",
          "data": {
            "text/plain": [
              "<keras.callbacks.History at 0x7f873ff7add0>"
            ]
          },
          "metadata": {},
          "execution_count": 49
        }
      ]
    },
    {
      "cell_type": "code",
      "source": [
        "y_preds_3 = model_3.predict(X_test)\n",
        "plot_predictions(predictions= y_preds_3)"
      ],
      "metadata": {
        "colab": {
          "base_uri": "https://localhost:8080/",
          "height": 545
        },
        "id": "tjPzL48tjwfX",
        "outputId": "0233c7ca-bcbb-4a54-cc47-8d2be02a7457"
      },
      "execution_count": null,
      "outputs": [
        {
          "output_type": "stream",
          "name": "stdout",
          "text": [
            "1/1 [==============================] - 0s 59ms/step\n"
          ]
        },
        {
          "output_type": "display_data",
          "data": {
            "text/plain": [
              "<Figure size 1000x700 with 1 Axes>"
            ],
            "image/png": "[encoded data removed]"
          },
          "metadata": {}
        }
      ]
    },
    {
      "cell_type": "code",
      "source": [
        "mae_3 = mae(y_test,y_preds_3)\n",
        "mse_3 = mse(y_test,y_preds_3)\n",
        "mae_3,mse_3"
      ],
      "metadata": {
        "colab": {
          "base_uri": "https://localhost:8080/"
        },
        "id": "FFDPWT5Wj0yg",
        "outputId": "a34d9f4c-fc62-492f-ef3a-341755fa4067"
      },
      "execution_count": null,
      "outputs": [
        {
          "output_type": "execute_result",
          "data": {
            "text/plain": [
              "(<tf.Tensor: shape=(), dtype=float32, numpy=13.266024>,\n",
              " <tf.Tensor: shape=(), dtype=float32, numpy=176.80486>)"
            ]
          },
          "metadata": {},
          "execution_count": 51
        }
      ]
    },
    {
      "cell_type": "markdown",
      "source": [
        "**NOTE** start with a small experiment and increase the complexity when needed"
      ],
      "metadata": {
        "id": "kOC4FmIj3bf-"
      }
    },
    {
      "cell_type": "markdown",
      "source": [
        "# Comparing the results of the experiments"
      ],
      "metadata": {
        "id": "7rylc3irjwLQ"
      }
    },
    {
      "cell_type": "code",
      "source": [
        "# lets compare the results using pandas dataframe\n",
        "\n",
        "import pandas as pd\n",
        "\n",
        "model_results = [[\"model_1\",mae_1.numpy(),mse_1.numpy()],\n",
        "                  [\"model_2\",mae_2.numpy(),mse_2.numpy()],\n",
        "                  [\"model_3\",mae_3.numpy(),mse_3.numpy()]]\n",
        "\n",
        "all_results = pd.DataFrame(model_results,columns=['model','mae','mse'])\n",
        "all_results"
      ],
      "metadata": {
        "colab": {
          "base_uri": "https://localhost:8080/",
          "height": 143
        },
        "id": "s2qR5TVg3oA_",
        "outputId": "b1b74b65-00ef-461b-ad11-bd40c4fdd0b1"
      },
      "execution_count": null,
      "outputs": [
        {
          "output_type": "execute_result",
          "data": {
            "text/plain": [
              "     model        mae         mse\n",
              "0  model_1  14.901662  222.888275\n",
              "1  model_2  26.159519  709.897827\n",
              "2  model_3  13.266024  176.804855"
            ],
            "text/html": [
              "\n",
              "  <div id=\"df-f61e5962-9a2a-4bbc-94b0-30310b04c620\">\n",
              "    <div class=\"colab-df-container\">\n",
              "      <div>\n",
              "<style scoped>\n",
              "    .dataframe tbody tr th:only-of-type {\n",
              "        vertical-align: middle;\n",
              "    }\n",
              "\n",
              "    .dataframe tbody tr th {\n",
              "        vertical-align: top;\n",
              "    }\n",
              "\n",
              "    .dataframe thead th {\n",
              "        text-align: right;\n",
              "    }\n",
              "</style>\n",
              "<table border=\"1\" class=\"dataframe\">\n",
              "  <thead>\n",
              "    <tr style=\"text-align: right;\">\n",
              "      <th></th>\n",
              "      <th>model</th>\n",
              "      <th>mae</th>\n",
              "      <th>mse</th>\n",
              "    </tr>\n",
              "  </thead>\n",
              "  <tbody>\n",
              "    <tr>\n",
              "      <th>0</th>\n",
              "      <td>model_1</td>\n",
              "      <td>14.901662</td>\n",
              "      <td>222.888275</td>\n",
              "    </tr>\n",
              "    <tr>\n",
              "      <th>1</th>\n",
              "      <td>model_2</td>\n",
              "      <td>26.159519</td>\n",
              "      <td>709.897827</td>\n",
              "    </tr>\n",
              "    <tr>\n",
              "      <th>2</th>\n",
              "      <td>model_3</td>\n",
              "      <td>13.266024</td>\n",
              "      <td>176.804855</td>\n",
              "    </tr>\n",
              "  </tbody>\n",
              "</table>\n",
              "</div>\n",
              "      <button class=\"colab-df-convert\" onclick=\"convertToInteractive('df-f61e5962-9a2a-4bbc-94b0-30310b04c620')\"\n",
              "              title=\"Convert this dataframe to an interactive table.\"\n",
              "              style=\"display:none;\">\n",
              "        \n",
              "  <svg xmlns=\"http://www.w3.org/2000/svg\" height=\"24px\"viewBox=\"0 0 24 24\"\n",
              "       width=\"24px\">\n",
              "    <path d=\"M0 0h24v24H0V0z\" fill=\"none\"/>\n",
              "    <path d=\"M18.56 5.44l.94 2.06.94-2.06 2.06-.94-2.06-.94-.94-2.06-.94 2.06-2.06.94zm-11 1L8.5 8.5l.94-2.06 2.06-.94-2.06-.94L8.5 2.5l-.94 2.06-2.06.94zm10 10l.94 2.06.94-2.06 2.06-.94-2.06-.94-.94-2.06-.94 2.06-2.06.94z\"/><path d=\"M17.41 7.96l-1.37-1.37c-.4-.4-.92-.59-1.43-.59-.52 0-1.04.2-1.43.59L10.3 9.45l-7.72 7.72c-.78.78-.78 2.05 0 2.83L4 21.41c.39.39.9.59 1.41.59.51 0 1.02-.2 1.41-.59l7.78-7.78 2.81-2.81c.8-.78.8-2.07 0-2.86zM5.41 20L4 18.59l7.72-7.72 1.47 1.35L5.41 20z\"/>\n",
              "  </svg>\n",
              "      </button>\n",
              "      \n",
              "  <style>\n",
              "    .colab-df-container {\n",
              "      display:flex;\n",
              "      flex-wrap:wrap;\n",
              "      gap: 12px;\n",
              "    }\n",
              "\n",
              "    .colab-df-convert {\n",
              "      background-color: #E8F0FE;\n",
              "      border: none;\n",
              "      border-radius: 50%;\n",
              "      cursor: pointer;\n",
              "      display: none;\n",
              "      fill: #1967D2;\n",
              "      height: 32px;\n",
              "      padding: 0 0 0 0;\n",
              "      width: 32px;\n",
              "    }\n",
              "\n",
              "    .colab-df-convert:hover {\n",
              "      background-color: #E2EBFA;\n",
              "      box-shadow: 0px 1px 2px rgba(60, 64, 67, 0.3), 0px 1px 3px 1px rgba(60, 64, 67, 0.15);\n",
              "      fill: #174EA6;\n",
              "    }\n",
              "\n",
              "    [theme=dark] .colab-df-convert {\n",
              "      background-color: #3B4455;\n",
              "      fill: #D2E3FC;\n",
              "    }\n",
              "\n",
              "    [theme=dark] .colab-df-convert:hover {\n",
              "      background-color: #434B5C;\n",
              "      box-shadow: 0px 1px 3px 1px rgba(0, 0, 0, 0.15);\n",
              "      filter: drop-shadow(0px 1px 2px rgba(0, 0, 0, 0.3));\n",
              "      fill: #FFFFFF;\n",
              "    }\n",
              "  </style>\n",
              "\n",
              "      <script>\n",
              "        const buttonEl =\n",
              "          document.querySelector('#df-f61e5962-9a2a-4bbc-94b0-30310b04c620 button.colab-df-convert');\n",
              "        buttonEl.style.display =\n",
              "          google.colab.kernel.accessAllowed ? 'block' : 'none';\n",
              "\n",
              "        async function convertToInteractive(key) {\n",
              "          const element = document.querySelector('#df-f61e5962-9a2a-4bbc-94b0-30310b04c620');\n",
              "          const dataTable =\n",
              "            await google.colab.kernel.invokeFunction('convertToInteractive',\n",
              "                                                     [key], {});\n",
              "          if (!dataTable) return;\n",
              "\n",
              "          const docLinkHtml = 'Like what you see? Visit the ' +\n",
              "            '<a target=\"_blank\" href=https://colab.research.google.com/notebooks/data_table.ipynb>data table notebook</a>'\n",
              "            + ' to learn more about interactive tables.';\n",
              "          element.innerHTML = '';\n",
              "          dataTable['output_type'] = 'display_data';\n",
              "          await google.colab.output.renderOutput(dataTable, element);\n",
              "          const docLink = document.createElement('div');\n",
              "          docLink.innerHTML = docLinkHtml;\n",
              "          element.appendChild(docLink);\n",
              "        }\n",
              "      </script>\n",
              "    </div>\n",
              "  </div>\n",
              "  "
            ]
          },
          "metadata": {},
          "execution_count": 52
        }
      ]
    },
    {
      "cell_type": "markdown",
      "source": [
        "Looks like `model_2` perfromed the best"
      ],
      "metadata": {
        "id": "qh9vrm1y5MhR"
      }
    },
    {
      "cell_type": "code",
      "source": [
        "model_2.summary()"
      ],
      "metadata": {
        "colab": {
          "base_uri": "https://localhost:8080/"
        },
        "id": "XHYrbMvR4VDy",
        "outputId": "9a625bfc-dabb-436a-827b-e0109273514a"
      },
      "execution_count": null,
      "outputs": [
        {
          "output_type": "stream",
          "name": "stdout",
          "text": [
            "Model: \"sequential_6\"\n",
            "_________________________________________________________________\n",
            " Layer (type)                Output Shape              Param #   \n",
            "=================================================================\n",
            " dense_9 (Dense)             (None, 10)                20        \n",
            "                                                                 \n",
            " dense_10 (Dense)            (None, 1)                 11        \n",
            "                                                                 \n",
            "=================================================================\n",
            "Total params: 31\n",
            "Trainable params: 31\n",
            "Non-trainable params: 0\n",
            "_________________________________________________________________\n"
          ]
        }
      ]
    },
    {
      "cell_type": "markdown",
      "source": [
        "**Note** main goal, minimize the time between experiments.\n",
        "\n",
        "The more the expreiments the more you know what does not work,\n",
        "\n",
        "the more you know what does not work the more you closer to what will work"
      ],
      "metadata": {
        "id": "4cAc_9_N5BMC"
      }
    },
    {
      "cell_type": "markdown",
      "source": [
        "# Tracking your experiments\n",
        "\n",
        "Remember to track your experiments\n",
        "\n",
        "tools used to have\n",
        "\n",
        "**Resource:** As you build more models, look into using:\n",
        "\n",
        "> TensorBoard -> Helps track modeling experiments\n",
        "\n",
        "\n",
        "> Weights and Biases -> Tracking all king of ml experiments \n"
      ],
      "metadata": {
        "id": "t6grotB_5Z-w"
      }
    },
    {
      "cell_type": "markdown",
      "source": [
        "# Saving our models"
      ],
      "metadata": {
        "id": "Vbon-Nj56n_B"
      }
    },
    {
      "cell_type": "markdown",
      "source": [
        "Saving a model allows us to use the model outside the colad\n",
        "\n",
        "\n",
        "Formata to save the model:\n",
        "SaveModel\n",
        "\n",
        "HDF5 format"
      ],
      "metadata": {
        "id": "WlwxQ6rb6tWG"
      }
    },
    {
      "cell_type": "code",
      "source": [
        "model_2.save(\"best_model\")"
      ],
      "metadata": {
        "colab": {
          "base_uri": "https://localhost:8080/"
        },
        "id": "CV8V1MGMDlar",
        "outputId": "4404378b-019a-428a-9371-995d0db2e58b"
      },
      "execution_count": null,
      "outputs": [
        {
          "output_type": "stream",
          "name": "stderr",
          "text": [
            "WARNING:absl:Found untraced functions such as _update_step_xla while saving (showing 1 of 1). These functions will not be directly callable after loading.\n"
          ]
        }
      ]
    },
    {
      "cell_type": "code",
      "source": [
        "model_2.save('best_model.h5')"
      ],
      "metadata": {
        "id": "-K3JuzscESyk"
      },
      "execution_count": null,
      "outputs": []
    },
    {
      "cell_type": "markdown",
      "source": [
        "# Loading in saved model"
      ],
      "metadata": {
        "id": "3iwQjv99GTx_"
      }
    },
    {
      "cell_type": "code",
      "source": [
        "# load in the saveModel \n",
        "loaded_savedModel = tf.keras.models.load_model(\"best_model\")"
      ],
      "metadata": {
        "id": "Xe5MUZibG4kS"
      },
      "execution_count": null,
      "outputs": []
    },
    {
      "cell_type": "code",
      "source": [
        "loaded_savedModel.summary()"
      ],
      "metadata": {
        "colab": {
          "base_uri": "https://localhost:8080/"
        },
        "id": "q5LTqiq1HAer",
        "outputId": "383d8188-2d81-476d-f9d3-a04f31bde317"
      },
      "execution_count": null,
      "outputs": [
        {
          "output_type": "stream",
          "name": "stdout",
          "text": [
            "Model: \"sequential_6\"\n",
            "_________________________________________________________________\n",
            " Layer (type)                Output Shape              Param #   \n",
            "=================================================================\n",
            " dense_9 (Dense)             (None, 10)                20        \n",
            "                                                                 \n",
            " dense_10 (Dense)            (None, 1)                 11        \n",
            "                                                                 \n",
            "=================================================================\n",
            "Total params: 31\n",
            "Trainable params: 31\n",
            "Non-trainable params: 0\n",
            "_________________________________________________________________\n"
          ]
        }
      ]
    },
    {
      "cell_type": "code",
      "source": [
        "  # loading the H5 format\n",
        "loaded_h5_model = tf.keras.models.load_model(\"/content/best_model.h5\")\n",
        "loaded_h5_model.summary()"
      ],
      "metadata": {
        "colab": {
          "base_uri": "https://localhost:8080/"
        },
        "id": "joCEf6qtHrly",
        "outputId": "bffa44ee-85f1-4030-d43a-bfaed1fd6e7c"
      },
      "execution_count": null,
      "outputs": [
        {
          "output_type": "stream",
          "name": "stdout",
          "text": [
            "Model: \"sequential_6\"\n",
            "_________________________________________________________________\n",
            " Layer (type)                Output Shape              Param #   \n",
            "=================================================================\n",
            " dense_9 (Dense)             (None, 10)                20        \n",
            "                                                                 \n",
            " dense_10 (Dense)            (None, 1)                 11        \n",
            "                                                                 \n",
            "=================================================================\n",
            "Total params: 31\n",
            "Trainable params: 31\n",
            "Non-trainable params: 0\n",
            "_________________________________________________________________\n"
          ]
        }
      ]
    },
    {
      "cell_type": "code",
      "source": [
        "medel_2_preds = model_2.predict(X_test)\n",
        "loaded_h5_model_preds = loaded_h5_model.predict(X_test)\n",
        "\n",
        "loaded_h5_model_preds"
      ],
      "metadata": {
        "colab": {
          "base_uri": "https://localhost:8080/"
        },
        "id": "9LZ9HOXjI5oT",
        "outputId": "00821917-b325-4b8d-ab3f-516d846ef12e"
      },
      "execution_count": null,
      "outputs": [
        {
          "output_type": "stream",
          "name": "stdout",
          "text": [
            "1/1 [==============================] - 0s 24ms/step\n",
            "1/1 [==============================] - 0s 24ms/step\n"
          ]
        },
        {
          "output_type": "execute_result",
          "data": {
            "text/plain": [
              "array([[ 88.23608 ],\n",
              "       [ 93.99683 ],\n",
              "       [ 99.75759 ],\n",
              "       [105.518364],\n",
              "       [111.279144],\n",
              "       [117.0399  ],\n",
              "       [122.80066 ],\n",
              "       [128.56143 ],\n",
              "       [134.3222  ],\n",
              "       [140.08298 ]], dtype=float32)"
            ]
          },
          "metadata": {},
          "execution_count": 64
        }
      ]
    },
    {
      "cell_type": "code",
      "source": [
        "medel_2_preds == loaded_h5_model_preds"
      ],
      "metadata": {
        "colab": {
          "base_uri": "https://localhost:8080/"
        },
        "id": "acp5Ox_qJbtf",
        "outputId": "c390976a-13e7-4807-aa80-9c48919385aa"
      },
      "execution_count": null,
      "outputs": [
        {
          "output_type": "execute_result",
          "data": {
            "text/plain": [
              "array([[ True],\n",
              "       [ True],\n",
              "       [ True],\n",
              "       [ True],\n",
              "       [ True],\n",
              "       [ True],\n",
              "       [ True],\n",
              "       [ True],\n",
              "       [ True],\n",
              "       [ True]])"
            ]
          },
          "metadata": {},
          "execution_count": 63
        }
      ]
    },
    {
      "cell_type": "markdown",
      "source": [
        "# dowload from google colad\n",
        "\n",
        "1. Go to the file right click and click download\n",
        "\n",
        "2. code it put\n",
        "\n",
        "3. save to google dirve"
      ],
      "metadata": {
        "id": "Ou_HPMuZJfWb"
      }
    },
    {
      "cell_type": "code",
      "source": [
        "from google.colab import files\n",
        "\n",
        "files.download(\"/content/best_model.h5\")"
      ],
      "metadata": {
        "id": "hI2_rRNoKfke"
      },
      "execution_count": null,
      "outputs": []
    },
    {
      "cell_type": "markdown",
      "source": [
        "# A larger example"
      ],
      "metadata": {
        "id": "6bN15_ucLCFP"
      }
    },
    {
      "cell_type": "code",
      "source": [
        "import tensorflow as tf\n",
        "import pandas as pd\n",
        "import matplotlib.pyplot as plt"
      ],
      "metadata": {
        "id": "vBbu2EYdNefN"
      },
      "execution_count": null,
      "outputs": []
    },
    {
      "cell_type": "code",
      "source": [
        "insurance  = pd.read_csv(\"https://raw.githubusercontent.com/stedy/Machine-Learning-with-R-datasets/master/insurance.csv\")\n",
        "insurance"
      ],
      "metadata": {
        "colab": {
          "base_uri": "https://localhost:8080/",
          "height": 645
        },
        "id": "GIN1d73nNmPD",
        "outputId": "fb299d2f-9107-46d1-d7a0-3aebbb00c3f9"
      },
      "execution_count": null,
      "outputs": [
        {
          "output_type": "execute_result",
          "data": {
            "text/plain": [
              "      age     sex     bmi  children smoker     region      charges\n",
              "0      19  female  27.900         0    yes  southwest  16884.92400\n",
              "1      18    male  33.770         1     no  southeast   1725.55230\n",
              "2      28    male  33.000         3     no  southeast   4449.46200\n",
              "3      33    male  22.705         0     no  northwest  21984.47061\n",
              "4      32    male  28.880         0     no  northwest   3866.85520\n",
              "...   ...     ...     ...       ...    ...        ...          ...\n",
              "1333   50    male  30.970         3     no  northwest  10600.54830\n",
              "1334   18  female  31.920         0     no  northeast   2205.98080\n",
              "1335   18  female  36.850         0     no  southeast   1629.83350\n",
              "1336   21  female  25.800         0     no  southwest   2007.94500\n",
              "1337   61  female  29.070         0    yes  northwest  29141.36030\n",
              "\n",
              "[1338 rows x 7 columns]"
            ],
            "text/html": [
              "\n",
              "  <div id=\"df-6bca237c-165a-4126-b3a5-e8fb8fbc6659\">\n",
              "    <div class=\"colab-df-container\">\n",
              "      <div>\n",
              "<style scoped>\n",
              "    .dataframe tbody tr th:only-of-type {\n",
              "        vertical-align: middle;\n",
              "    }\n",
              "\n",
              "    .dataframe tbody tr th {\n",
              "        vertical-align: top;\n",
              "    }\n",
              "\n",
              "    .dataframe thead th {\n",
              "        text-align: right;\n",
              "    }\n",
              "</style>\n",
              "<table border=\"1\" class=\"dataframe\">\n",
              "  <thead>\n",
              "    <tr style=\"text-align: right;\">\n",
              "      <th></th>\n",
              "      <th>age</th>\n",
              "      <th>sex</th>\n",
              "      <th>bmi</th>\n",
              "      <th>children</th>\n",
              "      <th>smoker</th>\n",
              "      <th>region</th>\n",
              "      <th>charges</th>\n",
              "    </tr>\n",
              "  </thead>\n",
              "  <tbody>\n",
              "    <tr>\n",
              "      <th>0</th>\n",
              "      <td>19</td>\n",
              "      <td>female</td>\n",
              "      <td>27.900</td>\n",
              "      <td>0</td>\n",
              "      <td>yes</td>\n",
              "      <td>southwest</td>\n",
              "      <td>16884.92400</td>\n",
              "    </tr>\n",
              "    <tr>\n",
              "      <th>1</th>\n",
              "      <td>18</td>\n",
              "      <td>male</td>\n",
              "      <td>33.770</td>\n",
              "      <td>1</td>\n",
              "      <td>no</td>\n",
              "      <td>southeast</td>\n",
              "      <td>1725.55230</td>\n",
              "    </tr>\n",
              "    <tr>\n",
              "      <th>2</th>\n",
              "      <td>28</td>\n",
              "      <td>male</td>\n",
              "      <td>33.000</td>\n",
              "      <td>3</td>\n",
              "      <td>no</td>\n",
              "      <td>southeast</td>\n",
              "      <td>4449.46200</td>\n",
              "    </tr>\n",
              "    <tr>\n",
              "      <th>3</th>\n",
              "      <td>33</td>\n",
              "      <td>male</td>\n",
              "      <td>22.705</td>\n",
              "      <td>0</td>\n",
              "      <td>no</td>\n",
              "      <td>northwest</td>\n",
              "      <td>21984.47061</td>\n",
              "    </tr>\n",
              "    <tr>\n",
              "      <th>4</th>\n",
              "      <td>32</td>\n",
              "      <td>male</td>\n",
              "      <td>28.880</td>\n",
              "      <td>0</td>\n",
              "      <td>no</td>\n",
              "      <td>northwest</td>\n",
              "      <td>3866.85520</td>\n",
              "    </tr>\n",
              "    <tr>\n",
              "      <th>...</th>\n",
              "      <td>...</td>\n",
              "      <td>...</td>\n",
              "      <td>...</td>\n",
              "      <td>...</td>\n",
              "      <td>...</td>\n",
              "      <td>...</td>\n",
              "      <td>...</td>\n",
              "    </tr>\n",
              "    <tr>\n",
              "      <th>1333</th>\n",
              "      <td>50</td>\n",
              "      <td>male</td>\n",
              "      <td>30.970</td>\n",
              "      <td>3</td>\n",
              "      <td>no</td>\n",
              "      <td>northwest</td>\n",
              "      <td>10600.54830</td>\n",
              "    </tr>\n",
              "    <tr>\n",
              "      <th>1334</th>\n",
              "      <td>18</td>\n",
              "      <td>female</td>\n",
              "      <td>31.920</td>\n",
              "      <td>0</td>\n",
              "      <td>no</td>\n",
              "      <td>northeast</td>\n",
              "      <td>2205.98080</td>\n",
              "    </tr>\n",
              "    <tr>\n",
              "      <th>1335</th>\n",
              "      <td>18</td>\n",
              "      <td>female</td>\n",
              "      <td>36.850</td>\n",
              "      <td>0</td>\n",
              "      <td>no</td>\n",
              "      <td>southeast</td>\n",
              "      <td>1629.83350</td>\n",
              "    </tr>\n",
              "    <tr>\n",
              "      <th>1336</th>\n",
              "      <td>21</td>\n",
              "      <td>female</td>\n",
              "      <td>25.800</td>\n",
              "      <td>0</td>\n",
              "      <td>no</td>\n",
              "      <td>southwest</td>\n",
              "      <td>2007.94500</td>\n",
              "    </tr>\n",
              "    <tr>\n",
              "      <th>1337</th>\n",
              "      <td>61</td>\n",
              "      <td>female</td>\n",
              "      <td>29.070</td>\n",
              "      <td>0</td>\n",
              "      <td>yes</td>\n",
              "      <td>northwest</td>\n",
              "      <td>29141.36030</td>\n",
              "    </tr>\n",
              "  </tbody>\n",
              "</table>\n",
              "<p>1338 rows × 7 columns</p>\n",
              "</div>\n",
              "      <button class=\"colab-df-convert\" onclick=\"convertToInteractive('df-6bca237c-165a-4126-b3a5-e8fb8fbc6659')\"\n",
              "              title=\"Convert this dataframe to an interactive table.\"\n",
              "              style=\"display:none;\">\n",
              "        \n",
              "  <svg xmlns=\"http://www.w3.org/2000/svg\" height=\"24px\"viewBox=\"0 0 24 24\"\n",
              "       width=\"24px\">\n",
              "    <path d=\"M0 0h24v24H0V0z\" fill=\"none\"/>\n",
              "    <path d=\"M18.56 5.44l.94 2.06.94-2.06 2.06-.94-2.06-.94-.94-2.06-.94 2.06-2.06.94zm-11 1L8.5 8.5l.94-2.06 2.06-.94-2.06-.94L8.5 2.5l-.94 2.06-2.06.94zm10 10l.94 2.06.94-2.06 2.06-.94-2.06-.94-.94-2.06-.94 2.06-2.06.94z\"/><path d=\"M17.41 7.96l-1.37-1.37c-.4-.4-.92-.59-1.43-.59-.52 0-1.04.2-1.43.59L10.3 9.45l-7.72 7.72c-.78.78-.78 2.05 0 2.83L4 21.41c.39.39.9.59 1.41.59.51 0 1.02-.2 1.41-.59l7.78-7.78 2.81-2.81c.8-.78.8-2.07 0-2.86zM5.41 20L4 18.59l7.72-7.72 1.47 1.35L5.41 20z\"/>\n",
              "  </svg>\n",
              "      </button>\n",
              "      \n",
              "  <style>\n",
              "    .colab-df-container {\n",
              "      display:flex;\n",
              "      flex-wrap:wrap;\n",
              "      gap: 12px;\n",
              "    }\n",
              "\n",
              "    .colab-df-convert {\n",
              "      background-color: #E8F0FE;\n",
              "      border: none;\n",
              "      border-radius: 50%;\n",
              "      cursor: pointer;\n",
              "      display: none;\n",
              "      fill: #1967D2;\n",
              "      height: 32px;\n",
              "      padding: 0 0 0 0;\n",
              "      width: 32px;\n",
              "    }\n",
              "\n",
              "    .colab-df-convert:hover {\n",
              "      background-color: #E2EBFA;\n",
              "      box-shadow: 0px 1px 2px rgba(60, 64, 67, 0.3), 0px 1px 3px 1px rgba(60, 64, 67, 0.15);\n",
              "      fill: #174EA6;\n",
              "    }\n",
              "\n",
              "    [theme=dark] .colab-df-convert {\n",
              "      background-color: #3B4455;\n",
              "      fill: #D2E3FC;\n",
              "    }\n",
              "\n",
              "    [theme=dark] .colab-df-convert:hover {\n",
              "      background-color: #434B5C;\n",
              "      box-shadow: 0px 1px 3px 1px rgba(0, 0, 0, 0.15);\n",
              "      filter: drop-shadow(0px 1px 2px rgba(0, 0, 0, 0.3));\n",
              "      fill: #FFFFFF;\n",
              "    }\n",
              "  </style>\n",
              "\n",
              "      <script>\n",
              "        const buttonEl =\n",
              "          document.querySelector('#df-6bca237c-165a-4126-b3a5-e8fb8fbc6659 button.colab-df-convert');\n",
              "        buttonEl.style.display =\n",
              "          google.colab.kernel.accessAllowed ? 'block' : 'none';\n",
              "\n",
              "        async function convertToInteractive(key) {\n",
              "          const element = document.querySelector('#df-6bca237c-165a-4126-b3a5-e8fb8fbc6659');\n",
              "          const dataTable =\n",
              "            await google.colab.kernel.invokeFunction('convertToInteractive',\n",
              "                                                     [key], {});\n",
              "          if (!dataTable) return;\n",
              "\n",
              "          const docLinkHtml = 'Like what you see? Visit the ' +\n",
              "            '<a target=\"_blank\" href=https://colab.research.google.com/notebooks/data_table.ipynb>data table notebook</a>'\n",
              "            + ' to learn more about interactive tables.';\n",
              "          element.innerHTML = '';\n",
              "          dataTable['output_type'] = 'display_data';\n",
              "          await google.colab.output.renderOutput(dataTable, element);\n",
              "          const docLink = document.createElement('div');\n",
              "          docLink.innerHTML = docLinkHtml;\n",
              "          element.appendChild(docLink);\n",
              "        }\n",
              "      </script>\n",
              "    </div>\n",
              "  </div>\n",
              "  "
            ]
          },
          "metadata": {},
          "execution_count": 72
        }
      ]
    },
    {
      "cell_type": "code",
      "source": [
        "insurance['smoker'], insurance['age']"
      ],
      "metadata": {
        "colab": {
          "base_uri": "https://localhost:8080/"
        },
        "id": "U45zjIjhNxhk",
        "outputId": "a2c1923c-8c56-4d60-cff3-0eebb0acf029"
      },
      "execution_count": null,
      "outputs": [
        {
          "output_type": "execute_result",
          "data": {
            "text/plain": [
              "(0       yes\n",
              " 1        no\n",
              " 2        no\n",
              " 3        no\n",
              " 4        no\n",
              "        ... \n",
              " 1333     no\n",
              " 1334     no\n",
              " 1335     no\n",
              " 1336     no\n",
              " 1337    yes\n",
              " Name: smoker, Length: 1338, dtype: object,\n",
              " 0       19\n",
              " 1       18\n",
              " 2       28\n",
              " 3       33\n",
              " 4       32\n",
              "         ..\n",
              " 1333    50\n",
              " 1334    18\n",
              " 1335    18\n",
              " 1336    21\n",
              " 1337    61\n",
              " Name: age, Length: 1338, dtype: int64)"
            ]
          },
          "metadata": {},
          "execution_count": 75
        }
      ]
    },
    {
      "cell_type": "code",
      "source": [
        "#  one hot encode the dataframe \n",
        "insurance_one_hot = pd.get_dummies(insurance)\n",
        "insurance_one_hot"
      ],
      "metadata": {
        "colab": {
          "base_uri": "https://localhost:8080/",
          "height": 487
        },
        "id": "VB1WeJE6PBai",
        "outputId": "5ba37318-d0bc-4ca9-bd4a-8f73347f323d"
      },
      "execution_count": null,
      "outputs": [
        {
          "output_type": "execute_result",
          "data": {
            "text/plain": [
              "      age     bmi  children      charges  sex_female  sex_male  smoker_no  \\\n",
              "0      19  27.900         0  16884.92400           1         0          0   \n",
              "1      18  33.770         1   1725.55230           0         1          1   \n",
              "2      28  33.000         3   4449.46200           0         1          1   \n",
              "3      33  22.705         0  21984.47061           0         1          1   \n",
              "4      32  28.880         0   3866.85520           0         1          1   \n",
              "...   ...     ...       ...          ...         ...       ...        ...   \n",
              "1333   50  30.970         3  10600.54830           0         1          1   \n",
              "1334   18  31.920         0   2205.98080           1         0          1   \n",
              "1335   18  36.850         0   1629.83350           1         0          1   \n",
              "1336   21  25.800         0   2007.94500           1         0          1   \n",
              "1337   61  29.070         0  29141.36030           1         0          0   \n",
              "\n",
              "      smoker_yes  region_northeast  region_northwest  region_southeast  \\\n",
              "0              1                 0                 0                 0   \n",
              "1              0                 0                 0                 1   \n",
              "2              0                 0                 0                 1   \n",
              "3              0                 0                 1                 0   \n",
              "4              0                 0                 1                 0   \n",
              "...          ...               ...               ...               ...   \n",
              "1333           0                 0                 1                 0   \n",
              "1334           0                 1                 0                 0   \n",
              "1335           0                 0                 0                 1   \n",
              "1336           0                 0                 0                 0   \n",
              "1337           1                 0                 1                 0   \n",
              "\n",
              "      region_southwest  \n",
              "0                    1  \n",
              "1                    0  \n",
              "2                    0  \n",
              "3                    0  \n",
              "4                    0  \n",
              "...                ...  \n",
              "1333                 0  \n",
              "1334                 0  \n",
              "1335                 0  \n",
              "1336                 1  \n",
              "1337                 0  \n",
              "\n",
              "[1338 rows x 12 columns]"
            ],
            "text/html": [
              "\n",
              "  <div id=\"df-81d5307f-ba9f-4419-8469-c6aef63da156\">\n",
              "    <div class=\"colab-df-container\">\n",
              "      <div>\n",
              "<style scoped>\n",
              "    .dataframe tbody tr th:only-of-type {\n",
              "        vertical-align: middle;\n",
              "    }\n",
              "\n",
              "    .dataframe tbody tr th {\n",
              "        vertical-align: top;\n",
              "    }\n",
              "\n",
              "    .dataframe thead th {\n",
              "        text-align: right;\n",
              "    }\n",
              "</style>\n",
              "<table border=\"1\" class=\"dataframe\">\n",
              "  <thead>\n",
              "    <tr style=\"text-align: right;\">\n",
              "      <th></th>\n",
              "      <th>age</th>\n",
              "      <th>bmi</th>\n",
              "      <th>children</th>\n",
              "      <th>charges</th>\n",
              "      <th>sex_female</th>\n",
              "      <th>sex_male</th>\n",
              "      <th>smoker_no</th>\n",
              "      <th>smoker_yes</th>\n",
              "      <th>region_northeast</th>\n",
              "      <th>region_northwest</th>\n",
              "      <th>region_southeast</th>\n",
              "      <th>region_southwest</th>\n",
              "    </tr>\n",
              "  </thead>\n",
              "  <tbody>\n",
              "    <tr>\n",
              "      <th>0</th>\n",
              "      <td>19</td>\n",
              "      <td>27.900</td>\n",
              "      <td>0</td>\n",
              "      <td>16884.92400</td>\n",
              "      <td>1</td>\n",
              "      <td>0</td>\n",
              "      <td>0</td>\n",
              "      <td>1</td>\n",
              "      <td>0</td>\n",
              "      <td>0</td>\n",
              "      <td>0</td>\n",
              "      <td>1</td>\n",
              "    </tr>\n",
              "    <tr>\n",
              "      <th>1</th>\n",
              "      <td>18</td>\n",
              "      <td>33.770</td>\n",
              "      <td>1</td>\n",
              "      <td>1725.55230</td>\n",
              "      <td>0</td>\n",
              "      <td>1</td>\n",
              "      <td>1</td>\n",
              "      <td>0</td>\n",
              "      <td>0</td>\n",
              "      <td>0</td>\n",
              "      <td>1</td>\n",
              "      <td>0</td>\n",
              "    </tr>\n",
              "    <tr>\n",
              "      <th>2</th>\n",
              "      <td>28</td>\n",
              "      <td>33.000</td>\n",
              "      <td>3</td>\n",
              "      <td>4449.46200</td>\n",
              "      <td>0</td>\n",
              "      <td>1</td>\n",
              "      <td>1</td>\n",
              "      <td>0</td>\n",
              "      <td>0</td>\n",
              "      <td>0</td>\n",
              "      <td>1</td>\n",
              "      <td>0</td>\n",
              "    </tr>\n",
              "    <tr>\n",
              "      <th>3</th>\n",
              "      <td>33</td>\n",
              "      <td>22.705</td>\n",
              "      <td>0</td>\n",
              "      <td>21984.47061</td>\n",
              "      <td>0</td>\n",
              "      <td>1</td>\n",
              "      <td>1</td>\n",
              "      <td>0</td>\n",
              "      <td>0</td>\n",
              "      <td>1</td>\n",
              "      <td>0</td>\n",
              "      <td>0</td>\n",
              "    </tr>\n",
              "    <tr>\n",
              "      <th>4</th>\n",
              "      <td>32</td>\n",
              "      <td>28.880</td>\n",
              "      <td>0</td>\n",
              "      <td>3866.85520</td>\n",
              "      <td>0</td>\n",
              "      <td>1</td>\n",
              "      <td>1</td>\n",
              "      <td>0</td>\n",
              "      <td>0</td>\n",
              "      <td>1</td>\n",
              "      <td>0</td>\n",
              "      <td>0</td>\n",
              "    </tr>\n",
              "    <tr>\n",
              "      <th>...</th>\n",
              "      <td>...</td>\n",
              "      <td>...</td>\n",
              "      <td>...</td>\n",
              "      <td>...</td>\n",
              "      <td>...</td>\n",
              "      <td>...</td>\n",
              "      <td>...</td>\n",
              "      <td>...</td>\n",
              "      <td>...</td>\n",
              "      <td>...</td>\n",
              "      <td>...</td>\n",
              "      <td>...</td>\n",
              "    </tr>\n",
              "    <tr>\n",
              "      <th>1333</th>\n",
              "      <td>50</td>\n",
              "      <td>30.970</td>\n",
              "      <td>3</td>\n",
              "      <td>10600.54830</td>\n",
              "      <td>0</td>\n",
              "      <td>1</td>\n",
              "      <td>1</td>\n",
              "      <td>0</td>\n",
              "      <td>0</td>\n",
              "      <td>1</td>\n",
              "      <td>0</td>\n",
              "      <td>0</td>\n",
              "    </tr>\n",
              "    <tr>\n",
              "      <th>1334</th>\n",
              "      <td>18</td>\n",
              "      <td>31.920</td>\n",
              "      <td>0</td>\n",
              "      <td>2205.98080</td>\n",
              "      <td>1</td>\n",
              "      <td>0</td>\n",
              "      <td>1</td>\n",
              "      <td>0</td>\n",
              "      <td>1</td>\n",
              "      <td>0</td>\n",
              "      <td>0</td>\n",
              "      <td>0</td>\n",
              "    </tr>\n",
              "    <tr>\n",
              "      <th>1335</th>\n",
              "      <td>18</td>\n",
              "      <td>36.850</td>\n",
              "      <td>0</td>\n",
              "      <td>1629.83350</td>\n",
              "      <td>1</td>\n",
              "      <td>0</td>\n",
              "      <td>1</td>\n",
              "      <td>0</td>\n",
              "      <td>0</td>\n",
              "      <td>0</td>\n",
              "      <td>1</td>\n",
              "      <td>0</td>\n",
              "    </tr>\n",
              "    <tr>\n",
              "      <th>1336</th>\n",
              "      <td>21</td>\n",
              "      <td>25.800</td>\n",
              "      <td>0</td>\n",
              "      <td>2007.94500</td>\n",
              "      <td>1</td>\n",
              "      <td>0</td>\n",
              "      <td>1</td>\n",
              "      <td>0</td>\n",
              "      <td>0</td>\n",
              "      <td>0</td>\n",
              "      <td>0</td>\n",
              "      <td>1</td>\n",
              "    </tr>\n",
              "    <tr>\n",
              "      <th>1337</th>\n",
              "      <td>61</td>\n",
              "      <td>29.070</td>\n",
              "      <td>0</td>\n",
              "      <td>29141.36030</td>\n",
              "      <td>1</td>\n",
              "      <td>0</td>\n",
              "      <td>0</td>\n",
              "      <td>1</td>\n",
              "      <td>0</td>\n",
              "      <td>1</td>\n",
              "      <td>0</td>\n",
              "      <td>0</td>\n",
              "    </tr>\n",
              "  </tbody>\n",
              "</table>\n",
              "<p>1338 rows × 12 columns</p>\n",
              "</div>\n",
              "      <button class=\"colab-df-convert\" onclick=\"convertToInteractive('df-81d5307f-ba9f-4419-8469-c6aef63da156')\"\n",
              "              title=\"Convert this dataframe to an interactive table.\"\n",
              "              style=\"display:none;\">\n",
              "        \n",
              "  <svg xmlns=\"http://www.w3.org/2000/svg\" height=\"24px\"viewBox=\"0 0 24 24\"\n",
              "       width=\"24px\">\n",
              "    <path d=\"M0 0h24v24H0V0z\" fill=\"none\"/>\n",
              "    <path d=\"M18.56 5.44l.94 2.06.94-2.06 2.06-.94-2.06-.94-.94-2.06-.94 2.06-2.06.94zm-11 1L8.5 8.5l.94-2.06 2.06-.94-2.06-.94L8.5 2.5l-.94 2.06-2.06.94zm10 10l.94 2.06.94-2.06 2.06-.94-2.06-.94-.94-2.06-.94 2.06-2.06.94z\"/><path d=\"M17.41 7.96l-1.37-1.37c-.4-.4-.92-.59-1.43-.59-.52 0-1.04.2-1.43.59L10.3 9.45l-7.72 7.72c-.78.78-.78 2.05 0 2.83L4 21.41c.39.39.9.59 1.41.59.51 0 1.02-.2 1.41-.59l7.78-7.78 2.81-2.81c.8-.78.8-2.07 0-2.86zM5.41 20L4 18.59l7.72-7.72 1.47 1.35L5.41 20z\"/>\n",
              "  </svg>\n",
              "      </button>\n",
              "      \n",
              "  <style>\n",
              "    .colab-df-container {\n",
              "      display:flex;\n",
              "      flex-wrap:wrap;\n",
              "      gap: 12px;\n",
              "    }\n",
              "\n",
              "    .colab-df-convert {\n",
              "      background-color: #E8F0FE;\n",
              "      border: none;\n",
              "      border-radius: 50%;\n",
              "      cursor: pointer;\n",
              "      display: none;\n",
              "      fill: #1967D2;\n",
              "      height: 32px;\n",
              "      padding: 0 0 0 0;\n",
              "      width: 32px;\n",
              "    }\n",
              "\n",
              "    .colab-df-convert:hover {\n",
              "      background-color: #E2EBFA;\n",
              "      box-shadow: 0px 1px 2px rgba(60, 64, 67, 0.3), 0px 1px 3px 1px rgba(60, 64, 67, 0.15);\n",
              "      fill: #174EA6;\n",
              "    }\n",
              "\n",
              "    [theme=dark] .colab-df-convert {\n",
              "      background-color: #3B4455;\n",
              "      fill: #D2E3FC;\n",
              "    }\n",
              "\n",
              "    [theme=dark] .colab-df-convert:hover {\n",
              "      background-color: #434B5C;\n",
              "      box-shadow: 0px 1px 3px 1px rgba(0, 0, 0, 0.15);\n",
              "      filter: drop-shadow(0px 1px 2px rgba(0, 0, 0, 0.3));\n",
              "      fill: #FFFFFF;\n",
              "    }\n",
              "  </style>\n",
              "\n",
              "      <script>\n",
              "        const buttonEl =\n",
              "          document.querySelector('#df-81d5307f-ba9f-4419-8469-c6aef63da156 button.colab-df-convert');\n",
              "        buttonEl.style.display =\n",
              "          google.colab.kernel.accessAllowed ? 'block' : 'none';\n",
              "\n",
              "        async function convertToInteractive(key) {\n",
              "          const element = document.querySelector('#df-81d5307f-ba9f-4419-8469-c6aef63da156');\n",
              "          const dataTable =\n",
              "            await google.colab.kernel.invokeFunction('convertToInteractive',\n",
              "                                                     [key], {});\n",
              "          if (!dataTable) return;\n",
              "\n",
              "          const docLinkHtml = 'Like what you see? Visit the ' +\n",
              "            '<a target=\"_blank\" href=https://colab.research.google.com/notebooks/data_table.ipynb>data table notebook</a>'\n",
              "            + ' to learn more about interactive tables.';\n",
              "          element.innerHTML = '';\n",
              "          dataTable['output_type'] = 'display_data';\n",
              "          await google.colab.output.renderOutput(dataTable, element);\n",
              "          const docLink = document.createElement('div');\n",
              "          docLink.innerHTML = docLinkHtml;\n",
              "          element.appendChild(docLink);\n",
              "        }\n",
              "      </script>\n",
              "    </div>\n",
              "  </div>\n",
              "  "
            ]
          },
          "metadata": {},
          "execution_count": 84
        }
      ]
    },
    {
      "cell_type": "code",
      "source": [
        "# Create the X and y values\n",
        "y = insurance_one_hot['charges']\n",
        "y"
      ],
      "metadata": {
        "colab": {
          "base_uri": "https://localhost:8080/"
        },
        "id": "6AwkWLUwQYnU",
        "outputId": "70d00dc7-c903-4f1d-d776-f8194b5b3f11"
      },
      "execution_count": null,
      "outputs": [
        {
          "output_type": "execute_result",
          "data": {
            "text/plain": [
              "0       16884.92400\n",
              "1        1725.55230\n",
              "2        4449.46200\n",
              "3       21984.47061\n",
              "4        3866.85520\n",
              "           ...     \n",
              "1333    10600.54830\n",
              "1334     2205.98080\n",
              "1335     1629.83350\n",
              "1336     2007.94500\n",
              "1337    29141.36030\n",
              "Name: charges, Length: 1338, dtype: float64"
            ]
          },
          "metadata": {},
          "execution_count": 115
        }
      ]
    },
    {
      "cell_type": "code",
      "source": [
        "X = insurance_one_hot\n",
        "X.drop(['charges'],axis=1)\n",
        "X.shape"
      ],
      "metadata": {
        "colab": {
          "base_uri": "https://localhost:8080/"
        },
        "id": "m4btIP6bRUeO",
        "outputId": "88370e0b-549b-46ed-a0af-a8b8d5671295"
      },
      "execution_count": null,
      "outputs": [
        {
          "output_type": "execute_result",
          "data": {
            "text/plain": [
              "(1338, 12)"
            ]
          },
          "metadata": {},
          "execution_count": 116
        }
      ]
    },
    {
      "cell_type": "code",
      "source": [
        "# splitting the to X test X train y test and y \n",
        "\n",
        "from sklearn.model_selection import train_test_split\n",
        "# split the dataset\n",
        "X_train, X_test, y_train, y_test = train_test_split(\n",
        "    X, y, test_size=0.05, random_state=42)"
      ],
      "metadata": {
        "id": "1Ab5M2vyT55a"
      },
      "execution_count": null,
      "outputs": []
    },
    {
      "cell_type": "code",
      "source": [
        "# Buld a model\n",
        "\n",
        "tf.random.set_seed(42)\n",
        "\n",
        "insurance_model = tf.keras.Sequential([\n",
        "    tf.keras.layers.Dense(10),\n",
        "    tf.keras.layers.Dense(1),\n",
        "])\n",
        "\n",
        "insurance_model.compile(loss=tf.keras.losses.mae,\n",
        "                optimizer = tf.keras.optimizers.SGD(),\n",
        "                metrics = ['mae'])\n",
        "\n",
        "\n",
        "history_1 = insurance_model.fit(X_train,y_train,epochs=100)"
      ],
      "metadata": {
        "colab": {
          "base_uri": "https://localhost:8080/"
        },
        "id": "ak8bDk7i2sW7",
        "outputId": "b8ed5e14-b51c-427e-939a-1dad61edbf47"
      },
      "execution_count": null,
      "outputs": [
        {
          "output_type": "stream",
          "name": "stdout",
          "text": [
            "Epoch 1/100\n",
            "40/40 [==============================] - 1s 2ms/step - loss: nan - mae: nan\n",
            "Epoch 2/100\n",
            "40/40 [==============================] - 0s 2ms/step - loss: nan - mae: nan\n",
            "Epoch 3/100\n",
            "40/40 [==============================] - 0s 2ms/step - loss: nan - mae: nan\n",
            "Epoch 4/100\n",
            "40/40 [==============================] - 0s 2ms/step - loss: nan - mae: nan\n",
            "Epoch 5/100\n",
            "40/40 [==============================] - 0s 2ms/step - loss: nan - mae: nan\n",
            "Epoch 6/100\n",
            "40/40 [==============================] - 0s 2ms/step - loss: nan - mae: nan\n",
            "Epoch 7/100\n",
            "40/40 [==============================] - 0s 2ms/step - loss: nan - mae: nan\n",
            "Epoch 8/100\n",
            "40/40 [==============================] - 0s 2ms/step - loss: nan - mae: nan\n",
            "Epoch 9/100\n",
            "40/40 [==============================] - 0s 2ms/step - loss: nan - mae: nan\n",
            "Epoch 10/100\n",
            "40/40 [==============================] - 0s 2ms/step - loss: nan - mae: nan\n",
            "Epoch 11/100\n",
            "40/40 [==============================] - 0s 2ms/step - loss: nan - mae: nan\n",
            "Epoch 12/100\n",
            "40/40 [==============================] - 0s 2ms/step - loss: nan - mae: nan\n",
            "Epoch 13/100\n",
            "40/40 [==============================] - 0s 2ms/step - loss: nan - mae: nan\n",
            "Epoch 14/100\n",
            "40/40 [==============================] - 0s 2ms/step - loss: nan - mae: nan\n",
            "Epoch 15/100\n",
            "40/40 [==============================] - 0s 2ms/step - loss: nan - mae: nan\n",
            "Epoch 16/100\n",
            "40/40 [==============================] - 0s 2ms/step - loss: nan - mae: nan\n",
            "Epoch 17/100\n",
            "40/40 [==============================] - 0s 2ms/step - loss: nan - mae: nan\n",
            "Epoch 18/100\n",
            "40/40 [==============================] - 0s 2ms/step - loss: nan - mae: nan\n",
            "Epoch 19/100\n",
            "40/40 [==============================] - 0s 2ms/step - loss: nan - mae: nan\n",
            "Epoch 20/100\n",
            "40/40 [==============================] - 0s 2ms/step - loss: nan - mae: nan\n",
            "Epoch 21/100\n",
            "40/40 [==============================] - 0s 2ms/step - loss: nan - mae: nan\n",
            "Epoch 22/100\n",
            "40/40 [==============================] - 0s 3ms/step - loss: nan - mae: nan\n",
            "Epoch 23/100\n",
            "40/40 [==============================] - 0s 2ms/step - loss: nan - mae: nan\n",
            "Epoch 24/100\n",
            "40/40 [==============================] - 0s 2ms/step - loss: nan - mae: nan\n",
            "Epoch 25/100\n",
            "40/40 [==============================] - 0s 2ms/step - loss: nan - mae: nan\n",
            "Epoch 26/100\n",
            "40/40 [==============================] - 0s 2ms/step - loss: nan - mae: nan\n",
            "Epoch 27/100\n",
            "40/40 [==============================] - 0s 2ms/step - loss: nan - mae: nan\n",
            "Epoch 28/100\n",
            "40/40 [==============================] - 0s 2ms/step - loss: nan - mae: nan\n",
            "Epoch 29/100\n",
            "40/40 [==============================] - 0s 2ms/step - loss: nan - mae: nan\n",
            "Epoch 30/100\n",
            "40/40 [==============================] - 0s 2ms/step - loss: nan - mae: nan\n",
            "Epoch 31/100\n",
            "40/40 [==============================] - 0s 2ms/step - loss: nan - mae: nan\n",
            "Epoch 32/100\n",
            "40/40 [==============================] - 0s 2ms/step - loss: nan - mae: nan\n",
            "Epoch 33/100\n",
            "40/40 [==============================] - 0s 2ms/step - loss: nan - mae: nan\n",
            "Epoch 34/100\n",
            "40/40 [==============================] - 0s 2ms/step - loss: nan - mae: nan\n",
            "Epoch 35/100\n",
            "40/40 [==============================] - 0s 3ms/step - loss: nan - mae: nan\n",
            "Epoch 36/100\n",
            "40/40 [==============================] - 0s 2ms/step - loss: nan - mae: nan\n",
            "Epoch 37/100\n",
            "40/40 [==============================] - 0s 2ms/step - loss: nan - mae: nan\n",
            "Epoch 38/100\n",
            "40/40 [==============================] - 0s 2ms/step - loss: nan - mae: nan\n",
            "Epoch 39/100\n",
            "40/40 [==============================] - 0s 3ms/step - loss: nan - mae: nan\n",
            "Epoch 40/100\n",
            "40/40 [==============================] - 0s 3ms/step - loss: nan - mae: nan\n",
            "Epoch 41/100\n",
            "40/40 [==============================] - 0s 3ms/step - loss: nan - mae: nan\n",
            "Epoch 42/100\n",
            "40/40 [==============================] - 0s 3ms/step - loss: nan - mae: nan\n",
            "Epoch 43/100\n",
            "40/40 [==============================] - 0s 4ms/step - loss: nan - mae: nan\n",
            "Epoch 44/100\n",
            "40/40 [==============================] - 0s 4ms/step - loss: nan - mae: nan\n",
            "Epoch 45/100\n",
            "40/40 [==============================] - 0s 5ms/step - loss: nan - mae: nan\n",
            "Epoch 46/100\n",
            "40/40 [==============================] - 0s 5ms/step - loss: nan - mae: nan\n",
            "Epoch 47/100\n",
            "40/40 [==============================] - 0s 6ms/step - loss: nan - mae: nan\n",
            "Epoch 48/100\n",
            "40/40 [==============================] - 0s 6ms/step - loss: nan - mae: nan\n",
            "Epoch 49/100\n",
            "40/40 [==============================] - 0s 6ms/step - loss: nan - mae: nan\n",
            "Epoch 50/100\n",
            "40/40 [==============================] - 0s 5ms/step - loss: nan - mae: nan\n",
            "Epoch 51/100\n",
            "40/40 [==============================] - 0s 5ms/step - loss: nan - mae: nan\n",
            "Epoch 52/100\n",
            "40/40 [==============================] - 0s 5ms/step - loss: nan - mae: nan\n",
            "Epoch 53/100\n",
            "40/40 [==============================] - 0s 4ms/step - loss: nan - mae: nan\n",
            "Epoch 54/100\n",
            "40/40 [==============================] - 0s 5ms/step - loss: nan - mae: nan\n",
            "Epoch 55/100\n",
            "40/40 [==============================] - 0s 5ms/step - loss: nan - mae: nan\n",
            "Epoch 56/100\n",
            "40/40 [==============================] - 0s 6ms/step - loss: nan - mae: nan\n",
            "Epoch 57/100\n",
            "40/40 [==============================] - 0s 3ms/step - loss: nan - mae: nan\n",
            "Epoch 58/100\n",
            "40/40 [==============================] - 0s 6ms/step - loss: nan - mae: nan\n",
            "Epoch 59/100\n",
            "40/40 [==============================] - 0s 6ms/step - loss: nan - mae: nan\n",
            "Epoch 60/100\n",
            "40/40 [==============================] - 0s 5ms/step - loss: nan - mae: nan\n",
            "Epoch 61/100\n",
            "40/40 [==============================] - 0s 6ms/step - loss: nan - mae: nan\n",
            "Epoch 62/100\n",
            "40/40 [==============================] - 0s 5ms/step - loss: nan - mae: nan\n",
            "Epoch 63/100\n",
            "40/40 [==============================] - 0s 6ms/step - loss: nan - mae: nan\n",
            "Epoch 64/100\n",
            "40/40 [==============================] - 0s 5ms/step - loss: nan - mae: nan\n",
            "Epoch 65/100\n",
            "40/40 [==============================] - 0s 2ms/step - loss: nan - mae: nan\n",
            "Epoch 66/100\n",
            "40/40 [==============================] - 0s 2ms/step - loss: nan - mae: nan\n",
            "Epoch 67/100\n",
            "40/40 [==============================] - 0s 2ms/step - loss: nan - mae: nan\n",
            "Epoch 68/100\n",
            "40/40 [==============================] - 0s 2ms/step - loss: nan - mae: nan\n",
            "Epoch 69/100\n",
            "40/40 [==============================] - 0s 2ms/step - loss: nan - mae: nan\n",
            "Epoch 70/100\n",
            "40/40 [==============================] - 0s 2ms/step - loss: nan - mae: nan\n",
            "Epoch 71/100\n",
            "40/40 [==============================] - 0s 2ms/step - loss: nan - mae: nan\n",
            "Epoch 72/100\n",
            "40/40 [==============================] - 0s 2ms/step - loss: nan - mae: nan\n",
            "Epoch 73/100\n",
            "40/40 [==============================] - 0s 3ms/step - loss: nan - mae: nan\n",
            "Epoch 74/100\n",
            "40/40 [==============================] - 0s 2ms/step - loss: nan - mae: nan\n",
            "Epoch 75/100\n",
            "40/40 [==============================] - 0s 2ms/step - loss: nan - mae: nan\n",
            "Epoch 76/100\n",
            "40/40 [==============================] - 0s 2ms/step - loss: nan - mae: nan\n",
            "Epoch 77/100\n",
            "40/40 [==============================] - 0s 2ms/step - loss: nan - mae: nan\n",
            "Epoch 78/100\n",
            "40/40 [==============================] - 0s 2ms/step - loss: nan - mae: nan\n",
            "Epoch 79/100\n",
            "40/40 [==============================] - 0s 2ms/step - loss: nan - mae: nan\n",
            "Epoch 80/100\n",
            "40/40 [==============================] - 0s 2ms/step - loss: nan - mae: nan\n",
            "Epoch 81/100\n",
            "40/40 [==============================] - 0s 2ms/step - loss: nan - mae: nan\n",
            "Epoch 82/100\n",
            "40/40 [==============================] - 0s 2ms/step - loss: nan - mae: nan\n",
            "Epoch 83/100\n",
            "40/40 [==============================] - 0s 2ms/step - loss: nan - mae: nan\n",
            "Epoch 84/100\n",
            "40/40 [==============================] - 0s 2ms/step - loss: nan - mae: nan\n",
            "Epoch 85/100\n",
            "40/40 [==============================] - 0s 2ms/step - loss: nan - mae: nan\n",
            "Epoch 86/100\n",
            "40/40 [==============================] - 0s 2ms/step - loss: nan - mae: nan\n",
            "Epoch 87/100\n",
            "40/40 [==============================] - 0s 2ms/step - loss: nan - mae: nan\n",
            "Epoch 88/100\n",
            "40/40 [==============================] - 0s 2ms/step - loss: nan - mae: nan\n",
            "Epoch 89/100\n",
            "40/40 [==============================] - 0s 2ms/step - loss: nan - mae: nan\n",
            "Epoch 90/100\n",
            "40/40 [==============================] - 0s 2ms/step - loss: nan - mae: nan\n",
            "Epoch 91/100\n",
            "40/40 [==============================] - 0s 2ms/step - loss: nan - mae: nan\n",
            "Epoch 92/100\n",
            "40/40 [==============================] - 0s 2ms/step - loss: nan - mae: nan\n",
            "Epoch 93/100\n",
            "40/40 [==============================] - 0s 2ms/step - loss: nan - mae: nan\n",
            "Epoch 94/100\n",
            "40/40 [==============================] - 0s 2ms/step - loss: nan - mae: nan\n",
            "Epoch 95/100\n",
            "40/40 [==============================] - 0s 2ms/step - loss: nan - mae: nan\n",
            "Epoch 96/100\n",
            "40/40 [==============================] - 0s 2ms/step - loss: nan - mae: nan\n",
            "Epoch 97/100\n",
            "40/40 [==============================] - 0s 2ms/step - loss: nan - mae: nan\n",
            "Epoch 98/100\n",
            "40/40 [==============================] - 0s 2ms/step - loss: nan - mae: nan\n",
            "Epoch 99/100\n",
            "40/40 [==============================] - 0s 2ms/step - loss: nan - mae: nan\n",
            "Epoch 100/100\n",
            "40/40 [==============================] - 0s 2ms/step - loss: nan - mae: nan\n"
          ]
        }
      ]
    },
    {
      "cell_type": "code",
      "source": [
        "# Check the results of the insurance model on the test data\n",
        "insurance_model.evaluate(X_test,y_test)"
      ],
      "metadata": {
        "colab": {
          "base_uri": "https://localhost:8080/"
        },
        "id": "42nZpYu525A7",
        "outputId": "b0ff27b5-d6e8-44a0-cf7f-d3fa443e5ac4"
      },
      "execution_count": null,
      "outputs": [
        {
          "output_type": "stream",
          "name": "stdout",
          "text": [
            "3/3 [==============================] - 0s 4ms/step - loss: nan - mae: nan\n"
          ]
        },
        {
          "output_type": "execute_result",
          "data": {
            "text/plain": [
              "[nan, nan]"
            ]
          },
          "metadata": {},
          "execution_count": 178
        }
      ]
    },
    {
      "cell_type": "code",
      "source": [
        "y_pred = insurance_model.predict(X_test)"
      ],
      "metadata": {
        "colab": {
          "base_uri": "https://localhost:8080/"
        },
        "id": "5QRFzO4z39DC",
        "outputId": "4306cc43-4489-4632-b03a-2d1d643e7ab6"
      },
      "execution_count": null,
      "outputs": [
        {
          "output_type": "stream",
          "name": "stdout",
          "text": [
            "3/3 [==============================] - 0s 3ms/step\n"
          ]
        }
      ]
    },
    {
      "cell_type": "code",
      "source": [
        "insurance_mae_1 = mae(y_test,y_pred)"
      ],
      "metadata": {
        "id": "XoPhdL8k3484"
      },
      "execution_count": null,
      "outputs": []
    },
    {
      "cell_type": "markdown",
      "source": [
        "## The model did not do well, lets improve it.\n",
        "\n",
        "1. Change optimizer\n",
        "2. Add extra layer with more hiden units (with adam)"
      ],
      "metadata": {
        "id": "Ox0uPUuk26zE"
      }
    },
    {
      "cell_type": "markdown",
      "source": [
        "### changing the optimizer"
      ],
      "metadata": {
        "id": "_8Lk6fYi4Yke"
      }
    },
    {
      "cell_type": "code",
      "source": [
        "# Buld a model\n",
        "\n",
        "tf.random.set_seed(42)\n",
        "\n",
        "insurance_model_2 = tf.keras.Sequential([\n",
        "    tf.keras.layers.Dense(10),\n",
        "    tf.keras.layers.Dense(1),\n",
        "])\n",
        "\n",
        "insurance_model_2.compile(loss=tf.keras.losses.mae,\n",
        "                optimizer = tf.keras.optimizers.Adam(),\n",
        "                metrics = ['mae'])\n",
        "\n",
        "\n",
        "history_2 = insurance_model_2.fit(X_train,y_train,epochs=100)"
      ],
      "metadata": {
        "colab": {
          "base_uri": "https://localhost:8080/"
        },
        "id": "yuEX4nDkVDSu",
        "outputId": "a030981f-5457-4d6f-9fc3-4fcd943e746d"
      },
      "execution_count": null,
      "outputs": [
        {
          "output_type": "stream",
          "name": "stdout",
          "text": [
            "Epoch 1/100\n",
            "40/40 [==============================] - 1s 2ms/step - loss: 11724.1836 - mae: 11724.1836\n",
            "Epoch 2/100\n",
            "40/40 [==============================] - 0s 2ms/step - loss: 8270.8154 - mae: 8270.8154\n",
            "Epoch 3/100\n",
            "40/40 [==============================] - 0s 2ms/step - loss: 4366.2686 - mae: 4366.2686\n",
            "Epoch 4/100\n",
            "40/40 [==============================] - 0s 2ms/step - loss: 634.5194 - mae: 634.5194\n",
            "Epoch 5/100\n",
            "40/40 [==============================] - 0s 2ms/step - loss: 41.4920 - mae: 41.4920\n",
            "Epoch 6/100\n",
            "40/40 [==============================] - 0s 2ms/step - loss: 23.0592 - mae: 23.0592\n",
            "Epoch 7/100\n",
            "40/40 [==============================] - 0s 3ms/step - loss: 16.2068 - mae: 16.2068\n",
            "Epoch 8/100\n",
            "40/40 [==============================] - 0s 2ms/step - loss: 17.3139 - mae: 17.3139\n",
            "Epoch 9/100\n",
            "40/40 [==============================] - 0s 2ms/step - loss: 13.8061 - mae: 13.8061\n",
            "Epoch 10/100\n",
            "40/40 [==============================] - 0s 2ms/step - loss: 17.9369 - mae: 17.9369\n",
            "Epoch 11/100\n",
            "40/40 [==============================] - 0s 2ms/step - loss: 11.0964 - mae: 11.0964\n",
            "Epoch 12/100\n",
            "40/40 [==============================] - 0s 2ms/step - loss: 8.4062 - mae: 8.4062\n",
            "Epoch 13/100\n",
            "40/40 [==============================] - 0s 2ms/step - loss: 7.5007 - mae: 7.5007\n",
            "Epoch 14/100\n",
            "40/40 [==============================] - 0s 2ms/step - loss: 9.3886 - mae: 9.3886\n",
            "Epoch 15/100\n",
            "40/40 [==============================] - 0s 2ms/step - loss: 15.8190 - mae: 15.8190\n",
            "Epoch 16/100\n",
            "40/40 [==============================] - 0s 2ms/step - loss: 8.7887 - mae: 8.7887\n",
            "Epoch 17/100\n",
            "40/40 [==============================] - 0s 2ms/step - loss: 9.3964 - mae: 9.3964\n",
            "Epoch 18/100\n",
            "40/40 [==============================] - 0s 2ms/step - loss: 8.2678 - mae: 8.2678\n",
            "Epoch 19/100\n",
            "40/40 [==============================] - 0s 2ms/step - loss: 8.6611 - mae: 8.6611\n",
            "Epoch 20/100\n",
            "40/40 [==============================] - 0s 2ms/step - loss: 16.2177 - mae: 16.2177\n",
            "Epoch 21/100\n",
            "40/40 [==============================] - 0s 2ms/step - loss: 19.9056 - mae: 19.9056\n",
            "Epoch 22/100\n",
            "40/40 [==============================] - 0s 2ms/step - loss: 9.4674 - mae: 9.4674\n",
            "Epoch 23/100\n",
            "40/40 [==============================] - 0s 2ms/step - loss: 8.2885 - mae: 8.2885\n",
            "Epoch 24/100\n",
            "40/40 [==============================] - 0s 2ms/step - loss: 4.6765 - mae: 4.6765\n",
            "Epoch 25/100\n",
            "40/40 [==============================] - 0s 2ms/step - loss: 8.0278 - mae: 8.0278\n",
            "Epoch 26/100\n",
            "40/40 [==============================] - 0s 2ms/step - loss: 6.4105 - mae: 6.4105\n",
            "Epoch 27/100\n",
            "40/40 [==============================] - 0s 2ms/step - loss: 16.6395 - mae: 16.6395\n",
            "Epoch 28/100\n",
            "40/40 [==============================] - 0s 2ms/step - loss: 5.6776 - mae: 5.6776\n",
            "Epoch 29/100\n",
            "40/40 [==============================] - 0s 2ms/step - loss: 10.0188 - mae: 10.0188\n",
            "Epoch 30/100\n",
            "40/40 [==============================] - 0s 2ms/step - loss: 10.6196 - mae: 10.6196\n",
            "Epoch 31/100\n",
            "40/40 [==============================] - 0s 2ms/step - loss: 8.2523 - mae: 8.2523\n",
            "Epoch 32/100\n",
            "40/40 [==============================] - 0s 2ms/step - loss: 8.4470 - mae: 8.4470\n",
            "Epoch 33/100\n",
            "40/40 [==============================] - 0s 2ms/step - loss: 12.7333 - mae: 12.7333\n",
            "Epoch 34/100\n",
            "40/40 [==============================] - 0s 2ms/step - loss: 16.8377 - mae: 16.8377\n",
            "Epoch 35/100\n",
            "40/40 [==============================] - 0s 2ms/step - loss: 7.8313 - mae: 7.8313\n",
            "Epoch 36/100\n",
            "40/40 [==============================] - 0s 2ms/step - loss: 11.8712 - mae: 11.8712\n",
            "Epoch 37/100\n",
            "40/40 [==============================] - 0s 2ms/step - loss: 14.0742 - mae: 14.0742\n",
            "Epoch 38/100\n",
            "40/40 [==============================] - 0s 2ms/step - loss: 15.6765 - mae: 15.6765\n",
            "Epoch 39/100\n",
            "40/40 [==============================] - 0s 2ms/step - loss: 11.6151 - mae: 11.6151\n",
            "Epoch 40/100\n",
            "40/40 [==============================] - 0s 2ms/step - loss: 22.9368 - mae: 22.9368\n",
            "Epoch 41/100\n",
            "40/40 [==============================] - 0s 2ms/step - loss: 23.0680 - mae: 23.0680\n",
            "Epoch 42/100\n",
            "40/40 [==============================] - 0s 2ms/step - loss: 16.5395 - mae: 16.5395\n",
            "Epoch 43/100\n",
            "40/40 [==============================] - 0s 2ms/step - loss: 15.3604 - mae: 15.3604\n",
            "Epoch 44/100\n",
            "40/40 [==============================] - 0s 2ms/step - loss: 8.8013 - mae: 8.8013\n",
            "Epoch 45/100\n",
            "40/40 [==============================] - 0s 2ms/step - loss: 7.9257 - mae: 7.9257\n",
            "Epoch 46/100\n",
            "40/40 [==============================] - 0s 2ms/step - loss: 8.7478 - mae: 8.7478\n",
            "Epoch 47/100\n",
            "40/40 [==============================] - 0s 2ms/step - loss: 9.0636 - mae: 9.0636\n",
            "Epoch 48/100\n",
            "40/40 [==============================] - 0s 2ms/step - loss: 11.2419 - mae: 11.2419\n",
            "Epoch 49/100\n",
            "40/40 [==============================] - 0s 2ms/step - loss: 22.4100 - mae: 22.4100\n",
            "Epoch 50/100\n",
            "40/40 [==============================] - 0s 2ms/step - loss: 14.9289 - mae: 14.9289\n",
            "Epoch 51/100\n",
            "40/40 [==============================] - 0s 2ms/step - loss: 11.6040 - mae: 11.6040\n",
            "Epoch 52/100\n",
            "40/40 [==============================] - 0s 2ms/step - loss: 24.6220 - mae: 24.6220\n",
            "Epoch 53/100\n",
            "40/40 [==============================] - 0s 2ms/step - loss: 5.5871 - mae: 5.5871\n",
            "Epoch 54/100\n",
            "40/40 [==============================] - 0s 2ms/step - loss: 8.9341 - mae: 8.9341\n",
            "Epoch 55/100\n",
            "40/40 [==============================] - 0s 2ms/step - loss: 15.2365 - mae: 15.2365\n",
            "Epoch 56/100\n",
            "40/40 [==============================] - 0s 3ms/step - loss: 23.8648 - mae: 23.8648\n",
            "Epoch 57/100\n",
            "40/40 [==============================] - 0s 2ms/step - loss: 7.2825 - mae: 7.2825\n",
            "Epoch 58/100\n",
            "40/40 [==============================] - 0s 2ms/step - loss: 8.4558 - mae: 8.4558\n",
            "Epoch 59/100\n",
            "40/40 [==============================] - 0s 2ms/step - loss: 9.6798 - mae: 9.6798\n",
            "Epoch 60/100\n",
            "40/40 [==============================] - 0s 2ms/step - loss: 10.3951 - mae: 10.3951\n",
            "Epoch 61/100\n",
            "40/40 [==============================] - 0s 3ms/step - loss: 13.0687 - mae: 13.0687\n",
            "Epoch 62/100\n",
            "40/40 [==============================] - 0s 2ms/step - loss: 9.1134 - mae: 9.1134\n",
            "Epoch 63/100\n",
            "40/40 [==============================] - 0s 3ms/step - loss: 10.7531 - mae: 10.7531\n",
            "Epoch 64/100\n",
            "40/40 [==============================] - 0s 3ms/step - loss: 10.2417 - mae: 10.2417\n",
            "Epoch 65/100\n",
            "40/40 [==============================] - 0s 3ms/step - loss: 12.7688 - mae: 12.7688\n",
            "Epoch 66/100\n",
            "40/40 [==============================] - 0s 3ms/step - loss: 9.0491 - mae: 9.0491\n",
            "Epoch 67/100\n",
            "40/40 [==============================] - 0s 3ms/step - loss: 11.8479 - mae: 11.8479\n",
            "Epoch 68/100\n",
            "40/40 [==============================] - 0s 3ms/step - loss: 15.8859 - mae: 15.8859\n",
            "Epoch 69/100\n",
            "40/40 [==============================] - 0s 3ms/step - loss: 6.7695 - mae: 6.7695\n",
            "Epoch 70/100\n",
            "40/40 [==============================] - 0s 3ms/step - loss: 24.2638 - mae: 24.2638\n",
            "Epoch 71/100\n",
            "40/40 [==============================] - 0s 3ms/step - loss: 17.4846 - mae: 17.4846\n",
            "Epoch 72/100\n",
            "40/40 [==============================] - 0s 3ms/step - loss: 10.3283 - mae: 10.3283\n",
            "Epoch 73/100\n",
            "40/40 [==============================] - 0s 3ms/step - loss: 12.8450 - mae: 12.8450\n",
            "Epoch 74/100\n",
            "40/40 [==============================] - 0s 3ms/step - loss: 12.8038 - mae: 12.8038\n",
            "Epoch 75/100\n",
            "40/40 [==============================] - 0s 3ms/step - loss: 11.7360 - mae: 11.7360\n",
            "Epoch 76/100\n",
            "40/40 [==============================] - 0s 3ms/step - loss: 10.8490 - mae: 10.8490\n",
            "Epoch 77/100\n",
            "40/40 [==============================] - 0s 3ms/step - loss: 5.3602 - mae: 5.3602\n",
            "Epoch 78/100\n",
            "40/40 [==============================] - 0s 3ms/step - loss: 24.6572 - mae: 24.6572\n",
            "Epoch 79/100\n",
            "40/40 [==============================] - 0s 3ms/step - loss: 16.0488 - mae: 16.0488\n",
            "Epoch 80/100\n",
            "40/40 [==============================] - 0s 3ms/step - loss: 26.9354 - mae: 26.9354\n",
            "Epoch 81/100\n",
            "40/40 [==============================] - 0s 4ms/step - loss: 12.8960 - mae: 12.8960\n",
            "Epoch 82/100\n",
            "40/40 [==============================] - 0s 4ms/step - loss: 10.5179 - mae: 10.5179\n",
            "Epoch 83/100\n",
            "40/40 [==============================] - 0s 3ms/step - loss: 16.6892 - mae: 16.6892\n",
            "Epoch 84/100\n",
            "40/40 [==============================] - 0s 3ms/step - loss: 13.0722 - mae: 13.0722\n",
            "Epoch 85/100\n",
            "40/40 [==============================] - 0s 4ms/step - loss: 7.9501 - mae: 7.9501\n",
            "Epoch 86/100\n",
            "40/40 [==============================] - 0s 3ms/step - loss: 8.2536 - mae: 8.2536\n",
            "Epoch 87/100\n",
            "40/40 [==============================] - 0s 3ms/step - loss: 13.1030 - mae: 13.1030\n",
            "Epoch 88/100\n",
            "40/40 [==============================] - 0s 3ms/step - loss: 14.3234 - mae: 14.3234\n",
            "Epoch 89/100\n",
            "40/40 [==============================] - 0s 3ms/step - loss: 23.2762 - mae: 23.2762\n",
            "Epoch 90/100\n",
            "40/40 [==============================] - 0s 3ms/step - loss: 7.5556 - mae: 7.5556\n",
            "Epoch 91/100\n",
            "40/40 [==============================] - 0s 3ms/step - loss: 9.1924 - mae: 9.1924\n",
            "Epoch 92/100\n",
            "40/40 [==============================] - 0s 3ms/step - loss: 14.1958 - mae: 14.1958\n",
            "Epoch 93/100\n",
            "40/40 [==============================] - 0s 3ms/step - loss: 18.7252 - mae: 18.7252\n",
            "Epoch 94/100\n",
            "40/40 [==============================] - 0s 3ms/step - loss: 15.6729 - mae: 15.6729\n",
            "Epoch 95/100\n",
            "40/40 [==============================] - 0s 3ms/step - loss: 21.2129 - mae: 21.2129\n",
            "Epoch 96/100\n",
            "40/40 [==============================] - 0s 3ms/step - loss: 16.2520 - mae: 16.2520\n",
            "Epoch 97/100\n",
            "40/40 [==============================] - 0s 3ms/step - loss: 20.2557 - mae: 20.2557\n",
            "Epoch 98/100\n",
            "40/40 [==============================] - 0s 3ms/step - loss: 13.6807 - mae: 13.6807\n",
            "Epoch 99/100\n",
            "40/40 [==============================] - 0s 3ms/step - loss: 6.7973 - mae: 6.7973\n",
            "Epoch 100/100\n",
            "40/40 [==============================] - 0s 3ms/step - loss: 11.2865 - mae: 11.2865\n"
          ]
        }
      ]
    },
    {
      "cell_type": "code",
      "source": [
        "# Check the results of the insurance model on the test data\n",
        "insurance_model_2.evaluate(X_test,y_test)"
      ],
      "metadata": {
        "colab": {
          "base_uri": "https://localhost:8080/"
        },
        "id": "ZK_7u5T9XHRu",
        "outputId": "41bd377d-37d4-45bf-e737-580afdacdfcb"
      },
      "execution_count": null,
      "outputs": [
        {
          "output_type": "stream",
          "name": "stdout",
          "text": [
            "3/3 [==============================] - 0s 5ms/step - loss: 4.0298 - mae: 4.0298\n"
          ]
        },
        {
          "output_type": "execute_result",
          "data": {
            "text/plain": [
              "[4.029836177825928, 4.029836177825928]"
            ]
          },
          "metadata": {},
          "execution_count": 182
        }
      ]
    },
    {
      "cell_type": "code",
      "source": [
        "y_pred_2 = insurance_model_2.predict(X_test)"
      ],
      "metadata": {
        "colab": {
          "base_uri": "https://localhost:8080/"
        },
        "id": "BG13MDefuuoT",
        "outputId": "1cb68e93-29fc-482b-9a47-eaf48ba80124"
      },
      "execution_count": null,
      "outputs": [
        {
          "output_type": "stream",
          "name": "stdout",
          "text": [
            "3/3 [==============================] - 0s 4ms/step\n"
          ]
        }
      ]
    },
    {
      "cell_type": "code",
      "source": [
        "y_test.to_numpy()"
      ],
      "metadata": {
        "colab": {
          "base_uri": "https://localhost:8080/"
        },
        "id": "gInmv2KE10ml",
        "outputId": "d31304e2-ed88-407d-ca48-fdc98cf91f68"
      },
      "execution_count": null,
      "outputs": [
        {
          "output_type": "execute_result",
          "data": {
            "text/plain": [
              "array([ 9095.06825,  5272.1758 , 29330.98315,  9301.89355, 33750.2918 ,\n",
              "        4536.259  ,  2117.33885, 14210.53595,  3732.6251 , 10264.4421 ,\n",
              "       18259.216  ,  7256.7231 ,  3947.4131 , 46151.1245 , 48673.5588 ,\n",
              "       44202.6536 ,  9800.8882 , 42969.8527 ,  8233.0975 , 21774.32215,\n",
              "        5080.096  ,  7441.501  ,  1256.299  ,  2755.02095, 11085.5868 ,\n",
              "       10923.9332 , 12644.589  , 18804.7524 ,  9715.841  ,  1131.5066 ,\n",
              "       15828.82173, 11842.62375,  2020.5523 ,  5693.4305 ,  2904.088  ,\n",
              "        7448.40395,  2597.779  ,  7337.748  , 23887.6627 , 38709.176  ,\n",
              "        4687.797  ,  2643.2685 , 11674.13   , 12124.9924 ,  4889.9995 ,\n",
              "       12333.828  ,  3579.8287 ,  4391.652  , 42124.5153 ,  4463.2051 ,\n",
              "       13887.204  ,  1719.4363 , 28476.73499,  1708.92575, 10594.2257 ,\n",
              "       25333.33284,  3645.0894 , 38746.3551 , 11848.141  , 10564.8845 ,\n",
              "       13880.949  ,  4753.6368 , 27941.28758,  8017.06115, 23045.56616,\n",
              "        4133.64165, 17942.106  ])"
            ]
          },
          "metadata": {},
          "execution_count": 184
        }
      ]
    },
    {
      "cell_type": "code",
      "source": [
        "y_pred_2"
      ],
      "metadata": {
        "colab": {
          "base_uri": "https://localhost:8080/"
        },
        "id": "v_EuQAkU15wC",
        "outputId": "5c809c91-d60c-4345-d414-49fe5e47473f"
      },
      "execution_count": null,
      "outputs": [
        {
          "output_type": "execute_result",
          "data": {
            "text/plain": [
              "array([[ 9092.437 ],\n",
              "       [ 5270.8374],\n",
              "       [29323.209 ],\n",
              "       [ 9299.154 ],\n",
              "       [33740.21  ],\n",
              "       [ 4535.3457],\n",
              "       [ 2116.7043],\n",
              "       [14206.456 ],\n",
              "       [ 3731.411 ],\n",
              "       [10261.47  ],\n",
              "       [18254.848 ],\n",
              "       [ 7254.7236],\n",
              "       [ 3946.2202],\n",
              "       [46137.066 ],\n",
              "       [48658.65  ],\n",
              "       [44189.195 ],\n",
              "       [ 9798.2295],\n",
              "       [42956.86  ],\n",
              "       [ 8230.575 ],\n",
              "       [21768.969 ],\n",
              "       [ 5078.5586],\n",
              "       [ 7439.4697],\n",
              "       [ 1256.009 ],\n",
              "       [ 2754.6   ],\n",
              "       [11082.43  ],\n",
              "       [10920.874 ],\n",
              "       [12641.02  ],\n",
              "       [18798.477 ],\n",
              "       [ 9713.048 ],\n",
              "       [ 1131.0267],\n",
              "       [15823.806 ],\n",
              "       [11839.265 ],\n",
              "       [ 2020.0193],\n",
              "       [ 5691.729 ],\n",
              "       [ 2903.3396],\n",
              "       [ 7446.5234],\n",
              "       [ 2597.0906],\n",
              "       [ 7335.7617],\n",
              "       [23881.656 ],\n",
              "       [38697.414 ],\n",
              "       [ 4686.5303],\n",
              "       [ 2642.6274],\n",
              "       [11670.909 ],\n",
              "       [12121.3   ],\n",
              "       [ 4888.6006],\n",
              "       [12330.106 ],\n",
              "       [ 3579.0374],\n",
              "       [ 4390.4043],\n",
              "       [42111.723 ],\n",
              "       [ 4461.9927],\n",
              "       [13883.045 ],\n",
              "       [ 1718.7649],\n",
              "       [28467.322 ],\n",
              "       [ 1708.3878],\n",
              "       [10590.999 ],\n",
              "       [25324.92  ],\n",
              "       [ 3644.0198],\n",
              "       [38734.82  ],\n",
              "       [11844.784 ],\n",
              "       [10561.954 ],\n",
              "       [13876.899 ],\n",
              "       [ 4752.527 ],\n",
              "       [27932.2   ],\n",
              "       [ 8014.78  ],\n",
              "       [23038.02  ],\n",
              "       [ 4132.5356],\n",
              "       [17937.781 ]], dtype=float32)"
            ]
          },
          "metadata": {},
          "execution_count": 185
        }
      ]
    },
    {
      "cell_type": "code",
      "source": [
        "insurance_mae_2 = mae(y_test,y_pred_2)"
      ],
      "metadata": {
        "id": "bNn_fVTMzgeF"
      },
      "execution_count": null,
      "outputs": []
    },
    {
      "cell_type": "markdown",
      "source": [
        "### adding more hidden layers in the model"
      ],
      "metadata": {
        "id": "k7NdCPGCzlxA"
      }
    },
    {
      "cell_type": "code",
      "source": [
        "# Buld a model\n",
        "\n",
        "tf.random.set_seed(42)\n",
        "\n",
        "insurance_model_3 = tf.keras.Sequential([\n",
        "    tf.keras.layers.Dense(100),\n",
        "    tf.keras.layers.Dense(10),\n",
        "    tf.keras.layers.Dense(1),\n",
        "])\n",
        "\n",
        "insurance_model_3.compile(loss=tf.keras.losses.mae,\n",
        "                optimizer = tf.keras.optimizers.Adam(),\n",
        "                metrics = ['mae'])\n",
        "\n",
        "\n",
        "history_3 = insurance_model_3.fit(X_train,y_train,epochs=100)"
      ],
      "metadata": {
        "id": "wanKrDyC4qj3"
      },
      "execution_count": null,
      "outputs": []
    },
    {
      "cell_type": "code",
      "source": [
        "# Check the results of the insurance model on the test data\n",
        "insurance_model_3.evaluate(X_test,y_test)"
      ],
      "metadata": {
        "colab": {
          "base_uri": "https://localhost:8080/"
        },
        "id": "KMnqSygY42kj",
        "outputId": "7a4aad61-2a4b-4245-bdd6-18ef44db4142"
      },
      "execution_count": null,
      "outputs": [
        {
          "output_type": "stream",
          "name": "stdout",
          "text": [
            "3/3 [==============================] - 0s 5ms/step - loss: 23.2264 - mae: 23.2264\n"
          ]
        },
        {
          "output_type": "execute_result",
          "data": {
            "text/plain": [
              "[23.22637939453125, 23.22637939453125]"
            ]
          },
          "metadata": {},
          "execution_count": 188
        }
      ]
    },
    {
      "cell_type": "code",
      "source": [
        "y_pred_3 = insurance_model_3.predict(X_test)"
      ],
      "metadata": {
        "colab": {
          "base_uri": "https://localhost:8080/"
        },
        "id": "k4WbNdO_49SU",
        "outputId": "1a8bc3e0-24c4-40f6-a6c6-1b7007c2160f"
      },
      "execution_count": null,
      "outputs": [
        {
          "output_type": "stream",
          "name": "stdout",
          "text": [
            "3/3 [==============================] - 0s 4ms/step\n"
          ]
        }
      ]
    },
    {
      "cell_type": "code",
      "source": [
        "insurance_mae_3 = mae(y_test,y_pred_3)\n",
        "insurance_mae_3"
      ],
      "metadata": {
        "colab": {
          "base_uri": "https://localhost:8080/"
        },
        "id": "jXQN2D2x4_rc",
        "outputId": "7e104a5b-fb72-4851-e6bc-68c109a1501f"
      },
      "execution_count": null,
      "outputs": [
        {
          "output_type": "execute_result",
          "data": {
            "text/plain": [
              "<tf.Tensor: shape=(), dtype=float32, numpy=23.226507>"
            ]
          },
          "metadata": {},
          "execution_count": 190
        }
      ]
    },
    {
      "cell_type": "markdown",
      "source": [
        "**Model 2 has the better outcome of the data**"
      ],
      "metadata": {
        "id": "ywI8YquT5eMa"
      }
    },
    {
      "cell_type": "code",
      "source": [
        "pd.DataFrame(history_1.history).plot()\n",
        "plt.ylabel(\"loss\")\n",
        "plt.xlabel(\"epochs\")\n"
      ],
      "metadata": {
        "colab": {
          "base_uri": "https://localhost:8080/",
          "height": 466
        },
        "id": "2ZQ1zTYX7N63",
        "outputId": "fe16456f-b453-4028-d4aa-41cdf1c9d0a6"
      },
      "execution_count": null,
      "outputs": [
        {
          "output_type": "execute_result",
          "data": {
            "text/plain": [
              "Text(0.5, 0, 'epochs')"
            ]
          },
          "metadata": {},
          "execution_count": 191
        },
        {
          "output_type": "display_data",
          "data": {
            "text/plain": [
              "<Figure size 640x480 with 1 Axes>"
            ],
            "image/png": "[encoded data removed]"
          },
          "metadata": {}
        }
      ]
    },
    {
      "cell_type": "code",
      "source": [
        "pd.DataFrame(history_2.history).plot()\n",
        "plt.ylabel(\"loss\")\n",
        "plt.xlabel(\"epochs\")"
      ],
      "metadata": {
        "colab": {
          "base_uri": "https://localhost:8080/",
          "height": 466
        },
        "id": "WlVHNd8B8YiW",
        "outputId": "3e04546f-10ab-411c-946b-014e7ced049c"
      },
      "execution_count": null,
      "outputs": [
        {
          "output_type": "execute_result",
          "data": {
            "text/plain": [
              "Text(0.5, 0, 'epochs')"
            ]
          },
          "metadata": {},
          "execution_count": 192
        },
        {
          "output_type": "display_data",
          "data": {
            "text/plain": [
              "<Figure size 640x480 with 1 Axes>"
            ],
            "image/png": "[encoded data removed]"
          },
          "metadata": {}
        }
      ]
    },
    {
      "cell_type": "code",
      "source": [
        "pd.DataFrame(history_3.history).plot()\n",
        "plt.ylabel(\"loss\")\n",
        "plt.xlabel(\"epochs\")"
      ],
      "metadata": {
        "colab": {
          "base_uri": "https://localhost:8080/",
          "height": 467
        },
        "id": "VljbXijJ9-N-",
        "outputId": "181a6b50-0f2b-4dd4-ec50-df4c32d7de28"
      },
      "execution_count": null,
      "outputs": [
        {
          "output_type": "execute_result",
          "data": {
            "text/plain": [
              "Text(0.5, 0, 'epochs')"
            ]
          },
          "metadata": {},
          "execution_count": 193
        },
        {
          "output_type": "display_data",
          "data": {
            "text/plain": [
              "<Figure size 640x480 with 1 Axes>"
            ],
            "image/png": "[encoded data removed]"
          },
          "metadata": {}
        }
      ]
    },
    {
      "cell_type": "markdown",
      "source": [
        "# Preprocessing\n",
        "\n",
        "Normalization and standization\n",
        "\n"
      ],
      "metadata": {
        "id": "zHkQ8ZqF-HoI"
      }
    },
    {
      "cell_type": "markdown",
      "source": [
        "### Normailization for neurl nets"
      ],
      "metadata": {
        "id": "X9ZZfy9LAz7m"
      }
    },
    {
      "cell_type": "code",
      "source": [
        "import tensorflow as tf\n",
        "import matplotlib.pyplot as plt\n",
        "import pandas as pd\n",
        "\n",
        "# read the insurance \n",
        "insurance  = pd.read_csv(\"https://raw.githubusercontent.com/stedy/Machine-Learning-with-R-datasets/master/insurance.csv\")\n"
      ],
      "metadata": {
        "id": "l_QXB6SxC87_"
      },
      "execution_count": null,
      "outputs": []
    },
    {
      "cell_type": "code",
      "source": [],
      "metadata": {
        "id": "AkQ_ug71DEFt"
      },
      "execution_count": null,
      "outputs": []
    }
  ]
}