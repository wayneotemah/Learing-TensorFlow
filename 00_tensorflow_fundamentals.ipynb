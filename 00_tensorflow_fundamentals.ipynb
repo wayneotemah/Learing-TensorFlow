{
  "nbformat": 4,
  "nbformat_minor": 0,
  "metadata": {
    "colab": {
      "provenance": [],
      "authorship_tag": "ABX9TyPtqGvEkey9aewbJP4AXuGD",
      "include_colab_link": true
    },
    "kernelspec": {
      "name": "python3",
      "display_name": "Python 3"
    },
    "language_info": {
      "name": "python"
    }
  },
  "cells": [
    {
      "cell_type": "markdown",
      "metadata": {
        "id": "view-in-github",
        "colab_type": "text"
      },
      "source": [
        "<a href=\"https://colab.research.google.com/github/wayneotemah/Learing-TensorFlow/blob/main/00_tensorflow_fundamentals.ipynb\" target=\"_parent\"><img src=\"https://colab.research.google.com/assets/colab-badge.svg\" alt=\"Open In Colab\"/></a>"
      ]
    },
    {
      "cell_type": "markdown",
      "source": [
        " "
      ],
      "metadata": {
        "id": "x2Moy2e--EtD"
      }
    },
    {
      "cell_type": "markdown",
      "source": [
        "# In this notebook, we're going to cover some of the most fundamentals concepts of tensors using TensorFlow"
      ],
      "metadata": {
        "id": "1NOmWM4X-KMh"
      }
    },
    {
      "cell_type": "markdown",
      "source": [
        "more specifically:\n",
        "introduction to tensers\n",
        "\n",
        "*   getting information from tensers\n",
        "*   manipulating tensers\n",
        "*   using @tf.function (a way to speed up regualar py functions)\n",
        "*   using GPUs with tensorflow\n",
        "* Exercises to try for myself"
      ],
      "metadata": {
        "id": "3aN4zhyQ-hOZ"
      }
    },
    {
      "cell_type": "markdown",
      "source": [
        "# Intrduction to tensers"
      ],
      "metadata": {
        "id": "R8ajWy4m_mp1"
      }
    },
    {
      "cell_type": "code",
      "source": [
        "# import TensorFlow\n",
        "\n",
        "import tensorflow as tf\n",
        "print(tf.__version__)"
      ],
      "metadata": {
        "colab": {
          "base_uri": "https://localhost:8080/"
        },
        "id": "6GkEjON1_gJr",
        "outputId": "0976c65e-3a82-4df7-94f2-01ddc0b583a2"
      },
      "execution_count": null,
      "outputs": [
        {
          "output_type": "stream",
          "name": "stdout",
          "text": [
            "2.12.0\n"
          ]
        }
      ]
    },
    {
      "cell_type": "code",
      "source": [
        "# creating tensors with tf.constant()\n",
        "\n",
        "scalar = tf.constant(7)\n",
        "scalar"
      ],
      "metadata": {
        "colab": {
          "base_uri": "https://localhost:8080/"
        },
        "id": "yxe1A-UUAFmw",
        "outputId": "c93cae32-84e8-47be-890b-d2cc6b195ffc"
      },
      "execution_count": null,
      "outputs": [
        {
          "output_type": "execute_result",
          "data": {
            "text/plain": [
              "<tf.Tensor: shape=(), dtype=int32, numpy=7>"
            ]
          },
          "metadata": {},
          "execution_count": 6
        }
      ]
    },
    {
      "cell_type": "code",
      "source": [
        "# check the number of dimensions of a tensor (ndim -> stands for number of dimensions)\n",
        "scalar.ndim"
      ],
      "metadata": {
        "colab": {
          "base_uri": "https://localhost:8080/"
        },
        "id": "3nt_H8d4AXP0",
        "outputId": "e576e181-98da-4c07-cc24-9ce77e7407c7"
      },
      "execution_count": null,
      "outputs": [
        {
          "output_type": "execute_result",
          "data": {
            "text/plain": [
              "0"
            ]
          },
          "metadata": {},
          "execution_count": 8
        }
      ]
    },
    {
      "cell_type": "code",
      "source": [
        "# create a vector\n",
        "vector = tf.constant([10,10])\n",
        "vector"
      ],
      "metadata": {
        "colab": {
          "base_uri": "https://localhost:8080/"
        },
        "id": "1iWV2YUEBV7F",
        "outputId": "4b19c564-869a-4d6d-b400-0cd953ed7214"
      },
      "execution_count": null,
      "outputs": [
        {
          "output_type": "execute_result",
          "data": {
            "text/plain": [
              "<tf.Tensor: shape=(2,), dtype=int32, numpy=array([10, 10], dtype=int32)>"
            ]
          },
          "metadata": {},
          "execution_count": 10
        }
      ]
    },
    {
      "cell_type": "code",
      "source": [
        "# check vector dimentions\n",
        "vector.ndim"
      ],
      "metadata": {
        "colab": {
          "base_uri": "https://localhost:8080/"
        },
        "id": "MDJhogIvBpHP",
        "outputId": "2af99000-bb51-412d-9d8b-4ab6885280cc"
      },
      "execution_count": null,
      "outputs": [
        {
          "output_type": "execute_result",
          "data": {
            "text/plain": [
              "1"
            ]
          },
          "metadata": {},
          "execution_count": 13
        }
      ]
    },
    {
      "cell_type": "code",
      "source": [
        "# create a matrix ( more than one dimension)\n",
        "\n",
        "matrix = tf.constant([[10,10,19],\n",
        "                      [12,6,3]])\n",
        "\n",
        "matrix"
      ],
      "metadata": {
        "colab": {
          "base_uri": "https://localhost:8080/"
        },
        "id": "Q80Bh24EBu4T",
        "outputId": "fcb93d5c-bba5-49af-c78e-a0ce9c463c4e"
      },
      "execution_count": null,
      "outputs": [
        {
          "output_type": "execute_result",
          "data": {
            "text/plain": [
              "<tf.Tensor: shape=(2, 3), dtype=int32, numpy=\n",
              "array([[10, 10, 19],\n",
              "       [12,  6,  3]], dtype=int32)>"
            ]
          },
          "metadata": {},
          "execution_count": 14
        }
      ]
    },
    {
      "cell_type": "code",
      "source": [
        "# matrix number of dimensions\n",
        "matrix.ndim"
      ],
      "metadata": {
        "colab": {
          "base_uri": "https://localhost:8080/"
        },
        "id": "9hy0NqiiB_wM",
        "outputId": "ab6c4290-65ef-4da3-bffe-9a1e400d2ad2"
      },
      "execution_count": null,
      "outputs": [
        {
          "output_type": "execute_result",
          "data": {
            "text/plain": [
              "2"
            ]
          },
          "metadata": {},
          "execution_count": 16
        }
      ]
    },
    {
      "cell_type": "code",
      "source": [
        "# create tensor with our own datatype\n",
        "\n",
        "another_matrix = tf.constant([[10.,10.],\n",
        "                              [3.,2.,],\n",
        "                             [8.,9.]],dtype = tf.float16)\n",
        "\n",
        "another_matrix"
      ],
      "metadata": {
        "colab": {
          "base_uri": "https://localhost:8080/"
        },
        "id": "x6kGVcx2Cg9d",
        "outputId": "89aa9a2e-911b-4876-d979-fb75bf5c04f8"
      },
      "execution_count": null,
      "outputs": [
        {
          "output_type": "execute_result",
          "data": {
            "text/plain": [
              "<tf.Tensor: shape=(3, 2), dtype=float16, numpy=\n",
              "array([[10., 10.],\n",
              "       [ 3.,  2.],\n",
              "       [ 8.,  9.]], dtype=float16)>"
            ]
          },
          "metadata": {},
          "execution_count": 21
        }
      ]
    },
    {
      "cell_type": "code",
      "source": [
        "# check  another matix's\n",
        "another_matrix.ndim"
      ],
      "metadata": {
        "colab": {
          "base_uri": "https://localhost:8080/"
        },
        "id": "TZHDeKK2DAuM",
        "outputId": "8c866b3b-81d6-40c7-fed6-6b8a242c7634"
      },
      "execution_count": null,
      "outputs": [
        {
          "output_type": "execute_result",
          "data": {
            "text/plain": [
              "2"
            ]
          },
          "metadata": {},
          "execution_count": 19
        }
      ]
    },
    {
      "cell_type": "code",
      "source": [
        "#  increasing number of dimension\n",
        "tensor = tf.constant([[[1,2,3],\n",
        "                        [5,6,7]],\n",
        "                        [[9,8,7],\n",
        "                         [7,6,5]]])\n",
        "\n",
        "tensor"
      ],
      "metadata": {
        "colab": {
          "base_uri": "https://localhost:8080/"
        },
        "id": "USXSU9L7DanZ",
        "outputId": "027333d8-bdbb-4e64-cb02-e801cbb309d4"
      },
      "execution_count": null,
      "outputs": [
        {
          "output_type": "execute_result",
          "data": {
            "text/plain": [
              "<tf.Tensor: shape=(2, 2, 3), dtype=int32, numpy=\n",
              "array([[[1, 2, 3],\n",
              "        [5, 6, 7]],\n",
              "\n",
              "       [[9, 8, 7],\n",
              "        [7, 6, 5]]], dtype=int32)>"
            ]
          },
          "metadata": {},
          "execution_count": 23
        }
      ]
    },
    {
      "cell_type": "code",
      "source": [
        "tensor.ndim"
      ],
      "metadata": {
        "colab": {
          "base_uri": "https://localhost:8080/"
        },
        "id": "k67BntZ2FOU7",
        "outputId": "7daa2bd9-9b83-44bf-ab18-a88ab7c4451b"
      },
      "execution_count": null,
      "outputs": [
        {
          "output_type": "execute_result",
          "data": {
            "text/plain": [
              "3"
            ]
          },
          "metadata": {},
          "execution_count": 24
        }
      ]
    },
    {
      "cell_type": "markdown",
      "source": [
        "# waht we have learned so far\n",
        " * scalar: a single dimension\n",
        " * venctor: a number with direction (wind speed and direction)\n",
        " * matrix: 2 dimensioins of numbers\n",
        " * tensor: an n dimensional array of numbers"
      ],
      "metadata": {
        "id": "iZhN8zpEGCUp"
      }
    },
    {
      "cell_type": "code",
      "source": [],
      "metadata": {
        "id": "Q2VvmU5pFUYS"
      },
      "execution_count": null,
      "outputs": []
    }
  ]
}